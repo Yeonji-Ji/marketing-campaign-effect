{
 "cells": [
  {
   "cell_type": "code",
   "execution_count": 3,
   "metadata": {
    "_cell_guid": "b1076dfc-b9ad-4769-8c92-a6c4dae69d19",
    "_uuid": "8f2839f25d086af736a60e9eeb907d3b93b6e0e5",
    "execution": {
     "iopub.execute_input": "2025-10-03T03:51:19.362329Z",
     "iopub.status.busy": "2025-10-03T03:51:19.361982Z",
     "iopub.status.idle": "2025-10-03T03:51:19.839806Z",
     "shell.execute_reply": "2025-10-03T03:51:19.838690Z",
     "shell.execute_reply.started": "2025-10-03T03:51:19.362299Z"
    },
    "trusted": true
   },
   "outputs": [
    {
     "name": "stdout",
     "output_type": "stream",
     "text": [
      "/kaggle/input/arketing-campaign/marketing_campaign.csv\n",
      "/kaggle/input/arketing-campaign/marketing_campaign.xlsx\n",
      "/kaggle/input/00-marketing-campaign-data-processing/__results__.html\n",
      "/kaggle/input/00-marketing-campaign-data-processing/__notebook__.ipynb\n",
      "/kaggle/input/00-marketing-campaign-data-processing/__output__.json\n",
      "/kaggle/input/00-marketing-campaign-data-processing/custom.css\n",
      "/kaggle/input/00-marketing-campaign-data-processing/processed/hypothesis_ready.csv\n",
      "/kaggle/input/00-marketing-campaign-data-processing/processed/processed.csv\n",
      "/kaggle/input/00-marketing-campaign-data-processing/processed/processed.pkl\n"
     ]
    }
   ],
   "source": [
    "# This Python 3 environment comes with many helpful analytics libraries installed\n",
    "# It is defined by the kaggle/python Docker image: https://github.com/kaggle/docker-python\n",
    "# For example, here's several helpful packages to load\n",
    "\n",
    "import numpy as np # linear algebra\n",
    "import pandas as pd # data processing, CSV file I/O (e.g. pd.read_csv)\n",
    "\n",
    "# Input data files are available in the read-only \"../input/\" directory\n",
    "# For example, running this (by clicking run or pressing Shift+Enter) will list all files under the input directory\n",
    "\n",
    "import os\n",
    "for dirname, _, filenames in os.walk('/kaggle/input'):\n",
    "    for filename in filenames:\n",
    "        print(os.path.join(dirname, filename))\n",
    "\n",
    "# You can write up to 20GB to the current directory (/kaggle/working/) that gets preserved as output when you create a version using \"Save & Run All\" \n",
    "# You can also write temporary files to /kaggle/temp/, but they won't be saved outside of the current session"
   ]
  },
  {
   "cell_type": "code",
   "execution_count": 1,
   "metadata": {
    "execution": {
     "iopub.execute_input": "2025-10-03T03:48:53.637530Z",
     "iopub.status.busy": "2025-10-03T03:48:53.637163Z",
     "iopub.status.idle": "2025-10-03T03:48:57.947402Z",
     "shell.execute_reply": "2025-10-03T03:48:57.946100Z",
     "shell.execute_reply.started": "2025-10-03T03:48:53.637471Z"
    },
    "trusted": true
   },
   "outputs": [
    {
     "name": "stdout",
     "output_type": "stream",
     "text": [
      "Requirement already satisfied: causalml in /usr/local/lib/python3.11/dist-packages (0.15.5)\n",
      "Requirement already satisfied: forestci==0.6 in /usr/local/lib/python3.11/dist-packages (from causalml) (0.6)\n",
      "Requirement already satisfied: pathos==0.2.9 in /usr/local/lib/python3.11/dist-packages (from causalml) (0.2.9)\n",
      "Requirement already satisfied: numpy>=1.18.5 in /usr/local/lib/python3.11/dist-packages (from causalml) (1.26.4)\n",
      "Requirement already satisfied: scipy<1.16.0,>=1.4.1 in /usr/local/lib/python3.11/dist-packages (from causalml) (1.15.3)\n",
      "Requirement already satisfied: matplotlib in /usr/local/lib/python3.11/dist-packages (from causalml) (3.7.2)\n",
      "Requirement already satisfied: pandas>=0.24.1 in /usr/local/lib/python3.11/dist-packages (from causalml) (2.2.3)\n",
      "Requirement already satisfied: scikit-learn>=1.6.0 in /usr/local/lib/python3.11/dist-packages (from causalml) (1.7.2)\n",
      "Requirement already satisfied: statsmodels>=0.9.0 in /usr/local/lib/python3.11/dist-packages (from causalml) (0.14.4)\n",
      "Requirement already satisfied: seaborn in /usr/local/lib/python3.11/dist-packages (from causalml) (0.12.2)\n",
      "Requirement already satisfied: xgboost in /usr/local/lib/python3.11/dist-packages (from causalml) (2.0.3)\n",
      "Requirement already satisfied: pydotplus in /usr/local/lib/python3.11/dist-packages (from causalml) (2.0.2)\n",
      "Requirement already satisfied: tqdm in /usr/local/lib/python3.11/dist-packages (from causalml) (4.67.1)\n",
      "Requirement already satisfied: shap in /usr/local/lib/python3.11/dist-packages (from causalml) (0.44.1)\n",
      "Requirement already satisfied: dill in /usr/local/lib/python3.11/dist-packages (from causalml) (0.3.8)\n",
      "Requirement already satisfied: lightgbm in /usr/local/lib/python3.11/dist-packages (from causalml) (4.5.0)\n",
      "Requirement already satisfied: packaging in /usr/local/lib/python3.11/dist-packages (from causalml) (25.0)\n",
      "Requirement already satisfied: graphviz in /usr/local/lib/python3.11/dist-packages (from causalml) (0.21)\n",
      "Requirement already satisfied: ppft>=1.7.6.5 in /usr/local/lib/python3.11/dist-packages (from pathos==0.2.9->causalml) (1.7.7)\n",
      "Requirement already satisfied: pox>=0.3.1 in /usr/local/lib/python3.11/dist-packages (from pathos==0.2.9->causalml) (0.3.6)\n",
      "Requirement already satisfied: multiprocess>=0.70.13 in /usr/local/lib/python3.11/dist-packages (from pathos==0.2.9->causalml) (0.70.16)\n",
      "Requirement already satisfied: mkl_fft in /usr/local/lib/python3.11/dist-packages (from numpy>=1.18.5->causalml) (1.3.8)\n",
      "Requirement already satisfied: mkl_random in /usr/local/lib/python3.11/dist-packages (from numpy>=1.18.5->causalml) (1.2.4)\n",
      "Requirement already satisfied: mkl_umath in /usr/local/lib/python3.11/dist-packages (from numpy>=1.18.5->causalml) (0.1.1)\n",
      "Requirement already satisfied: mkl in /usr/local/lib/python3.11/dist-packages (from numpy>=1.18.5->causalml) (2025.2.0)\n",
      "Requirement already satisfied: tbb4py in /usr/local/lib/python3.11/dist-packages (from numpy>=1.18.5->causalml) (2022.2.0)\n",
      "Requirement already satisfied: mkl-service in /usr/local/lib/python3.11/dist-packages (from numpy>=1.18.5->causalml) (2.4.1)\n",
      "Requirement already satisfied: python-dateutil>=2.8.2 in /usr/local/lib/python3.11/dist-packages (from pandas>=0.24.1->causalml) (2.9.0.post0)\n",
      "Requirement already satisfied: pytz>=2020.1 in /usr/local/lib/python3.11/dist-packages (from pandas>=0.24.1->causalml) (2025.2)\n",
      "Requirement already satisfied: tzdata>=2022.7 in /usr/local/lib/python3.11/dist-packages (from pandas>=0.24.1->causalml) (2025.2)\n",
      "Requirement already satisfied: joblib>=1.2.0 in /usr/local/lib/python3.11/dist-packages (from scikit-learn>=1.6.0->causalml) (1.5.1)\n",
      "Requirement already satisfied: threadpoolctl>=3.1.0 in /usr/local/lib/python3.11/dist-packages (from scikit-learn>=1.6.0->causalml) (3.6.0)\n",
      "Requirement already satisfied: patsy>=0.5.6 in /usr/local/lib/python3.11/dist-packages (from statsmodels>=0.9.0->causalml) (1.0.1)\n",
      "Requirement already satisfied: contourpy>=1.0.1 in /usr/local/lib/python3.11/dist-packages (from matplotlib->causalml) (1.3.2)\n",
      "Requirement already satisfied: cycler>=0.10 in /usr/local/lib/python3.11/dist-packages (from matplotlib->causalml) (0.12.1)\n",
      "Requirement already satisfied: fonttools>=4.22.0 in /usr/local/lib/python3.11/dist-packages (from matplotlib->causalml) (4.58.4)\n",
      "Requirement already satisfied: kiwisolver>=1.0.1 in /usr/local/lib/python3.11/dist-packages (from matplotlib->causalml) (1.4.8)\n",
      "Requirement already satisfied: pillow>=6.2.0 in /usr/local/lib/python3.11/dist-packages (from matplotlib->causalml) (11.2.1)\n",
      "Requirement already satisfied: pyparsing<3.1,>=2.3.1 in /usr/local/lib/python3.11/dist-packages (from matplotlib->causalml) (3.0.9)\n",
      "Requirement already satisfied: slicer==0.0.7 in /usr/local/lib/python3.11/dist-packages (from shap->causalml) (0.0.7)\n",
      "Requirement already satisfied: numba in /usr/local/lib/python3.11/dist-packages (from shap->causalml) (0.60.0)\n",
      "Requirement already satisfied: cloudpickle in /usr/local/lib/python3.11/dist-packages (from shap->causalml) (3.1.1)\n",
      "Requirement already satisfied: six>=1.5 in /usr/local/lib/python3.11/dist-packages (from python-dateutil>=2.8.2->pandas>=0.24.1->causalml) (1.17.0)\n",
      "Requirement already satisfied: intel-openmp<2026,>=2024 in /usr/local/lib/python3.11/dist-packages (from mkl->numpy>=1.18.5->causalml) (2024.2.0)\n",
      "Requirement already satisfied: tbb==2022.* in /usr/local/lib/python3.11/dist-packages (from mkl->numpy>=1.18.5->causalml) (2022.2.0)\n",
      "Requirement already satisfied: tcmlib==1.* in /usr/local/lib/python3.11/dist-packages (from tbb==2022.*->mkl->numpy>=1.18.5->causalml) (1.4.0)\n",
      "Requirement already satisfied: intel-cmplr-lib-rt in /usr/local/lib/python3.11/dist-packages (from mkl_umath->numpy>=1.18.5->causalml) (2024.2.0)\n",
      "Requirement already satisfied: llvmlite<0.44,>=0.43.0dev0 in /usr/local/lib/python3.11/dist-packages (from numba->shap->causalml) (0.43.0)\n",
      "Requirement already satisfied: intel-cmplr-lib-ur==2024.2.0 in /usr/local/lib/python3.11/dist-packages (from intel-openmp<2026,>=2024->mkl->numpy>=1.18.5->causalml) (2024.2.0)\n"
     ]
    }
   ],
   "source": [
    "!pip install causalml"
   ]
  },
  {
   "cell_type": "code",
   "execution_count": 4,
   "metadata": {
    "execution": {
     "iopub.execute_input": "2025-10-03T03:52:07.113611Z",
     "iopub.status.busy": "2025-10-03T03:52:07.113097Z",
     "iopub.status.idle": "2025-10-03T03:52:09.646030Z",
     "shell.execute_reply": "2025-10-03T03:52:09.644976Z",
     "shell.execute_reply.started": "2025-10-03T03:52:07.113582Z"
    },
    "trusted": true
   },
   "outputs": [],
   "source": [
    "from lightgbm import LGBMRegressor"
   ]
  },
  {
   "cell_type": "code",
   "execution_count": 5,
   "metadata": {
    "execution": {
     "iopub.execute_input": "2025-10-03T03:52:14.552765Z",
     "iopub.status.busy": "2025-10-03T03:52:14.551989Z",
     "iopub.status.idle": "2025-10-03T03:52:14.604931Z",
     "shell.execute_reply": "2025-10-03T03:52:14.603858Z",
     "shell.execute_reply.started": "2025-10-03T03:52:14.552735Z"
    },
    "trusted": true
   },
   "outputs": [
    {
     "data": {
      "text/html": [
       "<div>\n",
       "<style scoped>\n",
       "    .dataframe tbody tr th:only-of-type {\n",
       "        vertical-align: middle;\n",
       "    }\n",
       "\n",
       "    .dataframe tbody tr th {\n",
       "        vertical-align: top;\n",
       "    }\n",
       "\n",
       "    .dataframe thead th {\n",
       "        text-align: right;\n",
       "    }\n",
       "</style>\n",
       "<table border=\"1\" class=\"dataframe\">\n",
       "  <thead>\n",
       "    <tr style=\"text-align: right;\">\n",
       "      <th></th>\n",
       "      <th>ID</th>\n",
       "      <th>Year_Birth</th>\n",
       "      <th>Age</th>\n",
       "      <th>Education</th>\n",
       "      <th>Marital_Status</th>\n",
       "      <th>Income</th>\n",
       "      <th>Kidhome</th>\n",
       "      <th>Teenhome</th>\n",
       "      <th>Dt_Customer</th>\n",
       "      <th>Recency</th>\n",
       "      <th>...</th>\n",
       "      <th>NumWebVisitsMonth</th>\n",
       "      <th>AcceptedCmp3</th>\n",
       "      <th>AcceptedCmp4</th>\n",
       "      <th>AcceptedCmp5</th>\n",
       "      <th>AcceptedCmp1</th>\n",
       "      <th>AcceptedCmp2</th>\n",
       "      <th>Complain</th>\n",
       "      <th>Response</th>\n",
       "      <th>TotalSpend</th>\n",
       "      <th>AcceptedCnt</th>\n",
       "    </tr>\n",
       "  </thead>\n",
       "  <tbody>\n",
       "    <tr>\n",
       "      <th>0</th>\n",
       "      <td>5524</td>\n",
       "      <td>1957</td>\n",
       "      <td>68</td>\n",
       "      <td>Graduation</td>\n",
       "      <td>Single</td>\n",
       "      <td>58138.0</td>\n",
       "      <td>0</td>\n",
       "      <td>0</td>\n",
       "      <td>2012-09-04</td>\n",
       "      <td>58</td>\n",
       "      <td>...</td>\n",
       "      <td>7</td>\n",
       "      <td>0</td>\n",
       "      <td>0</td>\n",
       "      <td>0</td>\n",
       "      <td>0</td>\n",
       "      <td>0</td>\n",
       "      <td>0</td>\n",
       "      <td>1</td>\n",
       "      <td>1617</td>\n",
       "      <td>0</td>\n",
       "    </tr>\n",
       "    <tr>\n",
       "      <th>1</th>\n",
       "      <td>2174</td>\n",
       "      <td>1954</td>\n",
       "      <td>71</td>\n",
       "      <td>Graduation</td>\n",
       "      <td>Single</td>\n",
       "      <td>46344.0</td>\n",
       "      <td>1</td>\n",
       "      <td>1</td>\n",
       "      <td>2014-03-08</td>\n",
       "      <td>38</td>\n",
       "      <td>...</td>\n",
       "      <td>5</td>\n",
       "      <td>0</td>\n",
       "      <td>0</td>\n",
       "      <td>0</td>\n",
       "      <td>0</td>\n",
       "      <td>0</td>\n",
       "      <td>0</td>\n",
       "      <td>0</td>\n",
       "      <td>27</td>\n",
       "      <td>0</td>\n",
       "    </tr>\n",
       "    <tr>\n",
       "      <th>2</th>\n",
       "      <td>4141</td>\n",
       "      <td>1965</td>\n",
       "      <td>60</td>\n",
       "      <td>Graduation</td>\n",
       "      <td>Together</td>\n",
       "      <td>71613.0</td>\n",
       "      <td>0</td>\n",
       "      <td>0</td>\n",
       "      <td>2013-08-21</td>\n",
       "      <td>26</td>\n",
       "      <td>...</td>\n",
       "      <td>4</td>\n",
       "      <td>0</td>\n",
       "      <td>0</td>\n",
       "      <td>0</td>\n",
       "      <td>0</td>\n",
       "      <td>0</td>\n",
       "      <td>0</td>\n",
       "      <td>0</td>\n",
       "      <td>776</td>\n",
       "      <td>0</td>\n",
       "    </tr>\n",
       "    <tr>\n",
       "      <th>3</th>\n",
       "      <td>6182</td>\n",
       "      <td>1984</td>\n",
       "      <td>41</td>\n",
       "      <td>Graduation</td>\n",
       "      <td>Together</td>\n",
       "      <td>26646.0</td>\n",
       "      <td>1</td>\n",
       "      <td>0</td>\n",
       "      <td>2014-02-10</td>\n",
       "      <td>26</td>\n",
       "      <td>...</td>\n",
       "      <td>6</td>\n",
       "      <td>0</td>\n",
       "      <td>0</td>\n",
       "      <td>0</td>\n",
       "      <td>0</td>\n",
       "      <td>0</td>\n",
       "      <td>0</td>\n",
       "      <td>0</td>\n",
       "      <td>53</td>\n",
       "      <td>0</td>\n",
       "    </tr>\n",
       "    <tr>\n",
       "      <th>4</th>\n",
       "      <td>5324</td>\n",
       "      <td>1981</td>\n",
       "      <td>44</td>\n",
       "      <td>PhD</td>\n",
       "      <td>Married</td>\n",
       "      <td>58293.0</td>\n",
       "      <td>1</td>\n",
       "      <td>0</td>\n",
       "      <td>2014-01-19</td>\n",
       "      <td>94</td>\n",
       "      <td>...</td>\n",
       "      <td>5</td>\n",
       "      <td>0</td>\n",
       "      <td>0</td>\n",
       "      <td>0</td>\n",
       "      <td>0</td>\n",
       "      <td>0</td>\n",
       "      <td>0</td>\n",
       "      <td>0</td>\n",
       "      <td>422</td>\n",
       "      <td>0</td>\n",
       "    </tr>\n",
       "  </tbody>\n",
       "</table>\n",
       "<p>5 rows × 30 columns</p>\n",
       "</div>"
      ],
      "text/plain": [
       "     ID  Year_Birth  Age   Education Marital_Status   Income  Kidhome  \\\n",
       "0  5524        1957   68  Graduation         Single  58138.0        0   \n",
       "1  2174        1954   71  Graduation         Single  46344.0        1   \n",
       "2  4141        1965   60  Graduation       Together  71613.0        0   \n",
       "3  6182        1984   41  Graduation       Together  26646.0        1   \n",
       "4  5324        1981   44         PhD        Married  58293.0        1   \n",
       "\n",
       "   Teenhome Dt_Customer  Recency  ...  NumWebVisitsMonth  AcceptedCmp3  \\\n",
       "0         0  2012-09-04       58  ...                  7             0   \n",
       "1         1  2014-03-08       38  ...                  5             0   \n",
       "2         0  2013-08-21       26  ...                  4             0   \n",
       "3         0  2014-02-10       26  ...                  6             0   \n",
       "4         0  2014-01-19       94  ...                  5             0   \n",
       "\n",
       "   AcceptedCmp4  AcceptedCmp5  AcceptedCmp1  AcceptedCmp2  Complain  Response  \\\n",
       "0             0             0             0             0         0         1   \n",
       "1             0             0             0             0         0         0   \n",
       "2             0             0             0             0         0         0   \n",
       "3             0             0             0             0         0         0   \n",
       "4             0             0             0             0         0         0   \n",
       "\n",
       "   TotalSpend  AcceptedCnt  \n",
       "0        1617            0  \n",
       "1          27            0  \n",
       "2         776            0  \n",
       "3          53            0  \n",
       "4         422            0  \n",
       "\n",
       "[5 rows x 30 columns]"
      ]
     },
     "execution_count": 5,
     "metadata": {},
     "output_type": "execute_result"
    }
   ],
   "source": [
    "IN_PATH = '/kaggle/input/00-marketing-campaign-data-processing/'\n",
    "HYP_DATA = IN_PATH + 'processed/hypothesis_ready.csv'\n",
    "df = pd.read_csv(HYP_DATA)\n",
    "df['Response'] = (df['Response']>0).astype(int)\n",
    "df.head()"
   ]
  },
  {
   "cell_type": "code",
   "execution_count": 6,
   "metadata": {
    "execution": {
     "iopub.execute_input": "2025-10-03T03:52:16.487959Z",
     "iopub.status.busy": "2025-10-03T03:52:16.487623Z",
     "iopub.status.idle": "2025-10-03T03:52:16.518387Z",
     "shell.execute_reply": "2025-10-03T03:52:16.517219Z",
     "shell.execute_reply.started": "2025-10-03T03:52:16.487932Z"
    },
    "trusted": true
   },
   "outputs": [
    {
     "data": {
      "text/html": [
       "<div>\n",
       "<style scoped>\n",
       "    .dataframe tbody tr th:only-of-type {\n",
       "        vertical-align: middle;\n",
       "    }\n",
       "\n",
       "    .dataframe tbody tr th {\n",
       "        vertical-align: top;\n",
       "    }\n",
       "\n",
       "    .dataframe thead th {\n",
       "        text-align: right;\n",
       "    }\n",
       "</style>\n",
       "<table border=\"1\" class=\"dataframe\">\n",
       "  <thead>\n",
       "    <tr style=\"text-align: right;\">\n",
       "      <th></th>\n",
       "      <th>Age</th>\n",
       "      <th>Income</th>\n",
       "      <th>Kidhome</th>\n",
       "      <th>Teenhome</th>\n",
       "      <th>Recency</th>\n",
       "      <th>MntWines</th>\n",
       "      <th>MntFruits</th>\n",
       "      <th>MntMeatProducts</th>\n",
       "      <th>MntFishProducts</th>\n",
       "      <th>MntSweetProducts</th>\n",
       "      <th>...</th>\n",
       "      <th>Education_Graduation</th>\n",
       "      <th>Education_Master</th>\n",
       "      <th>Education_PhD</th>\n",
       "      <th>Marital_Status_Alone</th>\n",
       "      <th>Marital_Status_Divorced</th>\n",
       "      <th>Marital_Status_Married</th>\n",
       "      <th>Marital_Status_Single</th>\n",
       "      <th>Marital_Status_Together</th>\n",
       "      <th>Marital_Status_Widow</th>\n",
       "      <th>Marital_Status_YOLO</th>\n",
       "    </tr>\n",
       "  </thead>\n",
       "  <tbody>\n",
       "    <tr>\n",
       "      <th>0</th>\n",
       "      <td>68</td>\n",
       "      <td>58138.0</td>\n",
       "      <td>0</td>\n",
       "      <td>0</td>\n",
       "      <td>58</td>\n",
       "      <td>635</td>\n",
       "      <td>88</td>\n",
       "      <td>546</td>\n",
       "      <td>172</td>\n",
       "      <td>88</td>\n",
       "      <td>...</td>\n",
       "      <td>True</td>\n",
       "      <td>False</td>\n",
       "      <td>False</td>\n",
       "      <td>False</td>\n",
       "      <td>False</td>\n",
       "      <td>False</td>\n",
       "      <td>True</td>\n",
       "      <td>False</td>\n",
       "      <td>False</td>\n",
       "      <td>False</td>\n",
       "    </tr>\n",
       "    <tr>\n",
       "      <th>1</th>\n",
       "      <td>71</td>\n",
       "      <td>46344.0</td>\n",
       "      <td>1</td>\n",
       "      <td>1</td>\n",
       "      <td>38</td>\n",
       "      <td>11</td>\n",
       "      <td>1</td>\n",
       "      <td>6</td>\n",
       "      <td>2</td>\n",
       "      <td>1</td>\n",
       "      <td>...</td>\n",
       "      <td>True</td>\n",
       "      <td>False</td>\n",
       "      <td>False</td>\n",
       "      <td>False</td>\n",
       "      <td>False</td>\n",
       "      <td>False</td>\n",
       "      <td>True</td>\n",
       "      <td>False</td>\n",
       "      <td>False</td>\n",
       "      <td>False</td>\n",
       "    </tr>\n",
       "    <tr>\n",
       "      <th>2</th>\n",
       "      <td>60</td>\n",
       "      <td>71613.0</td>\n",
       "      <td>0</td>\n",
       "      <td>0</td>\n",
       "      <td>26</td>\n",
       "      <td>426</td>\n",
       "      <td>49</td>\n",
       "      <td>127</td>\n",
       "      <td>111</td>\n",
       "      <td>21</td>\n",
       "      <td>...</td>\n",
       "      <td>True</td>\n",
       "      <td>False</td>\n",
       "      <td>False</td>\n",
       "      <td>False</td>\n",
       "      <td>False</td>\n",
       "      <td>False</td>\n",
       "      <td>False</td>\n",
       "      <td>True</td>\n",
       "      <td>False</td>\n",
       "      <td>False</td>\n",
       "    </tr>\n",
       "    <tr>\n",
       "      <th>3</th>\n",
       "      <td>41</td>\n",
       "      <td>26646.0</td>\n",
       "      <td>1</td>\n",
       "      <td>0</td>\n",
       "      <td>26</td>\n",
       "      <td>11</td>\n",
       "      <td>4</td>\n",
       "      <td>20</td>\n",
       "      <td>10</td>\n",
       "      <td>3</td>\n",
       "      <td>...</td>\n",
       "      <td>True</td>\n",
       "      <td>False</td>\n",
       "      <td>False</td>\n",
       "      <td>False</td>\n",
       "      <td>False</td>\n",
       "      <td>False</td>\n",
       "      <td>False</td>\n",
       "      <td>True</td>\n",
       "      <td>False</td>\n",
       "      <td>False</td>\n",
       "    </tr>\n",
       "    <tr>\n",
       "      <th>4</th>\n",
       "      <td>44</td>\n",
       "      <td>58293.0</td>\n",
       "      <td>1</td>\n",
       "      <td>0</td>\n",
       "      <td>94</td>\n",
       "      <td>173</td>\n",
       "      <td>43</td>\n",
       "      <td>118</td>\n",
       "      <td>46</td>\n",
       "      <td>27</td>\n",
       "      <td>...</td>\n",
       "      <td>False</td>\n",
       "      <td>False</td>\n",
       "      <td>True</td>\n",
       "      <td>False</td>\n",
       "      <td>False</td>\n",
       "      <td>True</td>\n",
       "      <td>False</td>\n",
       "      <td>False</td>\n",
       "      <td>False</td>\n",
       "      <td>False</td>\n",
       "    </tr>\n",
       "  </tbody>\n",
       "</table>\n",
       "<p>5 rows × 29 columns</p>\n",
       "</div>"
      ],
      "text/plain": [
       "   Age   Income  Kidhome  Teenhome  Recency  MntWines  MntFruits  \\\n",
       "0   68  58138.0        0         0       58       635         88   \n",
       "1   71  46344.0        1         1       38        11          1   \n",
       "2   60  71613.0        0         0       26       426         49   \n",
       "3   41  26646.0        1         0       26        11          4   \n",
       "4   44  58293.0        1         0       94       173         43   \n",
       "\n",
       "   MntMeatProducts  MntFishProducts  MntSweetProducts  ...  \\\n",
       "0              546              172                88  ...   \n",
       "1                6                2                 1  ...   \n",
       "2              127              111                21  ...   \n",
       "3               20               10                 3  ...   \n",
       "4              118               46                27  ...   \n",
       "\n",
       "   Education_Graduation  Education_Master  Education_PhD  \\\n",
       "0                  True             False          False   \n",
       "1                  True             False          False   \n",
       "2                  True             False          False   \n",
       "3                  True             False          False   \n",
       "4                 False             False           True   \n",
       "\n",
       "   Marital_Status_Alone  Marital_Status_Divorced  Marital_Status_Married  \\\n",
       "0                 False                    False                   False   \n",
       "1                 False                    False                   False   \n",
       "2                 False                    False                   False   \n",
       "3                 False                    False                   False   \n",
       "4                 False                    False                    True   \n",
       "\n",
       "   Marital_Status_Single  Marital_Status_Together  Marital_Status_Widow  \\\n",
       "0                   True                    False                 False   \n",
       "1                   True                    False                 False   \n",
       "2                  False                     True                 False   \n",
       "3                  False                     True                 False   \n",
       "4                  False                    False                 False   \n",
       "\n",
       "   Marital_Status_YOLO  \n",
       "0                False  \n",
       "1                False  \n",
       "2                False  \n",
       "3                False  \n",
       "4                False  \n",
       "\n",
       "[5 rows x 29 columns]"
      ]
     },
     "execution_count": 6,
     "metadata": {},
     "output_type": "execute_result"
    }
   ],
   "source": [
    "outcome = 'TotalSpend'\n",
    "treatment = 'Response'\n",
    "\n",
    "feature_cols = [\n",
    "    'Age', 'Income', 'Kidhome', 'Teenhome', 'Recency', \n",
    "    'MntWines', 'MntFruits', 'MntMeatProducts', 'MntFishProducts', \n",
    "    'MntSweetProducts', 'MntGoldProds', 'NumDealsPurchases', \n",
    "    'NumWebPurchases', 'NumCatalogPurchases', 'NumStorePurchases', \n",
    "    'NumWebVisitsMonth', 'AcceptedCnt', 'Complain',\n",
    "]\n",
    "\n",
    "categorical_cols = ['Education', 'Marital_Status']\n",
    "\n",
    "df_processed = pd.get_dummies(df, columns=categorical_cols, drop_first=True)\n",
    "\n",
    "final_feature_cols = feature_cols + [col for col in df_processed.columns if any(cat_col in col for cat_col in categorical_cols)]\n",
    "\n",
    "df_processed = df_processed.fillna(0)\n",
    "\n",
    "df_processed[final_feature_cols].head()"
   ]
  },
  {
   "cell_type": "code",
   "execution_count": 7,
   "metadata": {
    "execution": {
     "iopub.execute_input": "2025-10-03T03:52:18.773839Z",
     "iopub.status.busy": "2025-10-03T03:52:18.773206Z",
     "iopub.status.idle": "2025-10-03T03:52:18.786235Z",
     "shell.execute_reply": "2025-10-03T03:52:18.785015Z",
     "shell.execute_reply.started": "2025-10-03T03:52:18.773782Z"
    },
    "trusted": true
   },
   "outputs": [
    {
     "name": "stdout",
     "output_type": "stream",
     "text": [
      "X (Feature) shape: (2229, 29)\n",
      "T (Treatment) shape: (2229,)\n",
      "y (Outcome) shape: (2229,)\n"
     ]
    }
   ],
   "source": [
    "X_df = df_processed[final_feature_cols]\n",
    "X_df = X_df.astype(int)\n",
    "X = X_df.to_numpy()\n",
    "T = df_processed[treatment].to_numpy()\n",
    "y = df_processed[outcome].to_numpy()\n",
    "\n",
    "print(f\"X (Feature) shape: {X.shape}\")\n",
    "print(f\"T (Treatment) shape: {T.shape}\")\n",
    "print(f\"y (Outcome) shape: {y.shape}\")"
   ]
  },
  {
   "cell_type": "code",
   "execution_count": 8,
   "metadata": {
    "execution": {
     "iopub.execute_input": "2025-10-03T03:52:20.711821Z",
     "iopub.status.busy": "2025-10-03T03:52:20.711419Z",
     "iopub.status.idle": "2025-10-03T03:52:20.722082Z",
     "shell.execute_reply": "2025-10-03T03:52:20.720958Z",
     "shell.execute_reply.started": "2025-10-03T03:52:20.711792Z"
    },
    "trusted": true
   },
   "outputs": [],
   "source": [
    "class XLearner:\n",
    "    \"\"\"\n",
    "    - fit: outcome model(μ0, μ1) → imputed effect(d0, d1) → effect model(τ0, τ1)\n",
    "    - predict: return τ(x) \n",
    "    \"\"\"\n",
    "    def __init__(self, mu0=None, mu1=None, tau0=None, tau1=None, random_state: int = 42):\n",
    "        self.mu0 = mu0 or LGBMRegressor(verbose=-1,n_estimators=400)  # type: ignore\n",
    "        self.mu1 = mu1 or LGBMRegressor(verbose=-1,n_estimators=400)  # type: ignore\n",
    "        self.tau0 = tau0 or LGBMRegressor(verbose=-1,n_estimators=400)  # type: ignore\n",
    "        self.tau1 = tau1 or LGBMRegressor(verbose=-1,n_estimators=400)  # type: ignore\n",
    "        self.p_t = 0.5\n",
    "        self.random_state = random_state\n",
    "\n",
    "    def fit(self, X: np.ndarray, T: np.ndarray, y: np.ndarray):\n",
    "\n",
    "        X0, y0 = X[T == 0], y[T == 0]\n",
    "        X1, y1 = X[T == 1], y[T == 1]\n",
    "\n",
    "        self.mu0.fit(X0, y0)    # Use only Control data\n",
    "        self.mu1.fit(X1, y1)    # Use only Treatment data\n",
    "\n",
    "        # Imputed effects: \n",
    "        d0 = self.mu1.predict(X0) - y0\n",
    "        d1 = y1 - self.mu0.predict(X1)\n",
    "\n",
    "        # 3) Effect models(τ0, τ1)\n",
    "        self.tau0.fit(X0, d0)    # Use X0 and Predict d0\n",
    "        self.tau1.fit(X1, d1)    # Use X1 and Predict d1\n",
    "\n",
    "        self.p_t = float(T.mean())\n",
    "        return self\n",
    "\n",
    "    def predict(self, X: np.ndarray) -> np.ndarray:\n",
    "        \"\"\"Final CATE prediction: (1-p_t)*τ0(x) + p_t*τ1(x)\"\"\"\n",
    "        w0 = 1 - self.p_t\n",
    "        w1 = self.p_t\n",
    "        return w0 * self.tau0.predict(X) + w1 * self.tau1.predict(X)"
   ]
  },
  {
   "cell_type": "code",
   "execution_count": 9,
   "metadata": {
    "execution": {
     "iopub.execute_input": "2025-10-03T03:52:22.781454Z",
     "iopub.status.busy": "2025-10-03T03:52:22.781143Z",
     "iopub.status.idle": "2025-10-03T03:52:22.787606Z",
     "shell.execute_reply": "2025-10-03T03:52:22.786533Z",
     "shell.execute_reply.started": "2025-10-03T03:52:22.781432Z"
    },
    "trusted": true
   },
   "outputs": [],
   "source": [
    "def fit_xlearner(X: np.ndarray, T: np.ndarray, y: np.ndarray) -> XLearner:\n",
    "    return XLearner().fit(X, T, y)"
   ]
  },
  {
   "cell_type": "code",
   "execution_count": 10,
   "metadata": {
    "execution": {
     "iopub.execute_input": "2025-10-03T03:52:23.477799Z",
     "iopub.status.busy": "2025-10-03T03:52:23.477478Z",
     "iopub.status.idle": "2025-10-03T03:52:23.482908Z",
     "shell.execute_reply": "2025-10-03T03:52:23.481897Z",
     "shell.execute_reply.started": "2025-10-03T03:52:23.477779Z"
    },
    "trusted": true
   },
   "outputs": [],
   "source": [
    "def predict_cate(model: XLearner, X_new: np.ndarray) -> np.ndarray:\n",
    "    return model.predict(X_new)"
   ]
  },
  {
   "cell_type": "code",
   "execution_count": 16,
   "metadata": {
    "execution": {
     "iopub.execute_input": "2025-10-03T03:53:30.751324Z",
     "iopub.status.busy": "2025-10-03T03:53:30.750404Z",
     "iopub.status.idle": "2025-10-03T03:53:30.755771Z",
     "shell.execute_reply": "2025-10-03T03:53:30.754592Z",
     "shell.execute_reply.started": "2025-10-03T03:53:30.751291Z"
    },
    "trusted": true
   },
   "outputs": [],
   "source": [
    "import warnings\n",
    "\n",
    "warnings.filterwarnings(\"ignore\", message=\"No further splits with positive gain, best gain: -inf\")"
   ]
  },
  {
   "cell_type": "code",
   "execution_count": 17,
   "metadata": {
    "execution": {
     "iopub.execute_input": "2025-10-03T03:53:34.839367Z",
     "iopub.status.busy": "2025-10-03T03:53:34.838373Z",
     "iopub.status.idle": "2025-10-03T03:53:35.987674Z",
     "shell.execute_reply": "2025-10-03T03:53:35.986721Z",
     "shell.execute_reply.started": "2025-10-03T03:53:34.839333Z"
    },
    "trusted": true
   },
   "outputs": [
    {
     "name": "stderr",
     "output_type": "stream",
     "text": [
      "/usr/local/lib/python3.11/dist-packages/sklearn/utils/deprecation.py:132: FutureWarning: 'force_all_finite' was renamed to 'ensure_all_finite' in 1.6 and will be removed in 1.8.\n",
      "  warnings.warn(\n",
      "/usr/local/lib/python3.11/dist-packages/sklearn/utils/deprecation.py:132: FutureWarning: 'force_all_finite' was renamed to 'ensure_all_finite' in 1.6 and will be removed in 1.8.\n",
      "  warnings.warn(\n",
      "/usr/local/lib/python3.11/dist-packages/sklearn/utils/deprecation.py:132: FutureWarning: 'force_all_finite' was renamed to 'ensure_all_finite' in 1.6 and will be removed in 1.8.\n",
      "  warnings.warn(\n",
      "/usr/local/lib/python3.11/dist-packages/sklearn/utils/deprecation.py:132: FutureWarning: 'force_all_finite' was renamed to 'ensure_all_finite' in 1.6 and will be removed in 1.8.\n",
      "  warnings.warn(\n",
      "/usr/local/lib/python3.11/dist-packages/sklearn/utils/deprecation.py:132: FutureWarning: 'force_all_finite' was renamed to 'ensure_all_finite' in 1.6 and will be removed in 1.8.\n",
      "  warnings.warn(\n",
      "/usr/local/lib/python3.11/dist-packages/sklearn/utils/deprecation.py:132: FutureWarning: 'force_all_finite' was renamed to 'ensure_all_finite' in 1.6 and will be removed in 1.8.\n",
      "  warnings.warn(\n"
     ]
    }
   ],
   "source": [
    "x_model = fit_xlearner(X, T, y)"
   ]
  },
  {
   "cell_type": "code",
   "execution_count": 18,
   "metadata": {
    "execution": {
     "iopub.execute_input": "2025-10-03T03:53:43.674139Z",
     "iopub.status.busy": "2025-10-03T03:53:43.673796Z",
     "iopub.status.idle": "2025-10-03T03:53:43.783456Z",
     "shell.execute_reply": "2025-10-03T03:53:43.782326Z",
     "shell.execute_reply.started": "2025-10-03T03:53:43.674113Z"
    },
    "trusted": true
   },
   "outputs": [
    {
     "name": "stdout",
     "output_type": "stream",
     "text": [
      "\n",
      "Predicted CATE score (Top 5):\n",
      "[-72.47171695  -9.17822341  43.35694666   5.91126624  53.12662508]\n"
     ]
    },
    {
     "name": "stderr",
     "output_type": "stream",
     "text": [
      "/usr/local/lib/python3.11/dist-packages/sklearn/utils/deprecation.py:132: FutureWarning: 'force_all_finite' was renamed to 'ensure_all_finite' in 1.6 and will be removed in 1.8.\n",
      "  warnings.warn(\n",
      "/usr/local/lib/python3.11/dist-packages/sklearn/utils/deprecation.py:132: FutureWarning: 'force_all_finite' was renamed to 'ensure_all_finite' in 1.6 and will be removed in 1.8.\n",
      "  warnings.warn(\n"
     ]
    }
   ],
   "source": [
    "# Predict CATE(Uplift) for every customer\n",
    "cate_predictions = predict_cate(x_model, X)\n",
    "\n",
    "print(\"\\nPredicted CATE score (Top 5):\")\n",
    "print(cate_predictions[:5])"
   ]
  },
  {
   "cell_type": "markdown",
   "metadata": {},
   "source": [
    "<h2>Results</h2>"
   ]
  },
  {
   "cell_type": "code",
   "execution_count": 19,
   "metadata": {
    "execution": {
     "iopub.execute_input": "2025-10-03T03:53:49.889624Z",
     "iopub.status.busy": "2025-10-03T03:53:49.888456Z",
     "iopub.status.idle": "2025-10-03T03:53:49.894488Z",
     "shell.execute_reply": "2025-10-03T03:53:49.892956Z",
     "shell.execute_reply.started": "2025-10-03T03:53:49.889590Z"
    },
    "trusted": true
   },
   "outputs": [],
   "source": [
    "FIG_PATH = '/kaggle/working/figure'\n",
    "os.makedirs(FIG_PATH, exist_ok=True)"
   ]
  },
  {
   "cell_type": "code",
   "execution_count": 21,
   "metadata": {
    "execution": {
     "iopub.execute_input": "2025-10-03T03:54:17.571917Z",
     "iopub.status.busy": "2025-10-03T03:54:17.571564Z",
     "iopub.status.idle": "2025-10-03T03:54:17.578012Z",
     "shell.execute_reply": "2025-10-03T03:54:17.576574Z",
     "shell.execute_reply.started": "2025-10-03T03:54:17.571892Z"
    },
    "trusted": true
   },
   "outputs": [],
   "source": [
    "import matplotlib.pyplot as plt\n",
    "import seaborn as sns\n",
    "\n",
    "sns.set_style('whitegrid')"
   ]
  },
  {
   "cell_type": "code",
   "execution_count": 46,
   "metadata": {
    "execution": {
     "iopub.execute_input": "2025-10-03T04:07:43.331256Z",
     "iopub.status.busy": "2025-10-03T04:07:43.330927Z",
     "iopub.status.idle": "2025-10-03T04:07:44.218667Z",
     "shell.execute_reply": "2025-10-03T04:07:44.217631Z",
     "shell.execute_reply.started": "2025-10-03T04:07:43.331232Z"
    },
    "trusted": true
   },
   "outputs": [
    {
     "name": "stderr",
     "output_type": "stream",
     "text": [
      "use_inf_as_na option is deprecated and will be removed in a future version. Convert inf values to NaN before operating instead.\n"
     ]
    },
    {
     "data": {
      "image/png": "[encoded data removed]",
      "text/plain": [
       "<Figure size 800x500 with 1 Axes>"
      ]
     },
     "metadata": {},
     "output_type": "display_data"
    }
   ],
   "source": [
    "plt.figure(figsize=(8, 5))\n",
    "\n",
    "sns.histplot(cate_predictions, kde=True, bins=50, color='skyblue',)\n",
    "\n",
    "plt.axvline(x=0, color='red', linestyle='--', linewidth=2)\n",
    "\n",
    "plt.title('Distribution of Predicted CATE Scores', fontsize=16)\n",
    "plt.xlabel('Predicted Uplift (CATE Score)')\n",
    "plt.ylabel('Number of Customers')\n",
    "y_axis_max = plt.ylim()[1]\n",
    "plt.text(10, y_axis_max * 0.9, 'Persuadables →', ha='left', color='green', fontsize=12)\n",
    "plt.text(-10, y_axis_max * 0.9, '← Sleeping Dogs', ha='right', color='red', fontsize=12)\n",
    "plt.tight_layout()\n",
    "plt.savefig(FIG_PATH + \"/predicted_CATE_distribution.png\", dpi=200, bbox_inches='tight')\n",
    "plt.show()"
   ]
  },
  {
   "cell_type": "code",
   "execution_count": 59,
   "metadata": {
    "execution": {
     "iopub.execute_input": "2025-10-03T04:19:14.913046Z",
     "iopub.status.busy": "2025-10-03T04:19:14.912709Z",
     "iopub.status.idle": "2025-10-03T04:19:14.948983Z",
     "shell.execute_reply": "2025-10-03T04:19:14.947980Z",
     "shell.execute_reply.started": "2025-10-03T04:19:14.913018Z"
    },
    "trusted": true
   },
   "outputs": [
    {
     "name": "stderr",
     "output_type": "stream",
     "text": [
      "DataFrameGroupBy.apply operated on the grouping columns. This behavior is deprecated, and in a future version of pandas the grouping columns will be excluded from the operation. Either pass `include_groups=False` to exclude the groupings or explicitly select the grouping columns after groupby to silence this warning.\n",
      "DataFrameGroupBy.apply operated on the grouping columns. This behavior is deprecated, and in a future version of pandas the grouping columns will be excluded from the operation. Either pass `include_groups=False` to exclude the groupings or explicitly select the grouping columns after groupby to silence this warning.\n"
     ]
    }
   ],
   "source": [
    "df_lift = pd.DataFrame({\n",
    "    'cate': cate_predictions,\n",
    "    'treatment': df[treatment],\n",
    "    'outcome': df[outcome]\n",
    "})\n",
    "\n",
    "df_lift = df_lift.sort_values(by='cate', ascending=False).reset_index(drop=True)\n",
    "\n",
    "df_lift['decile'] = pd.qcut(df_lift.index, q=10, labels=False, duplicates='drop')\n",
    "\n",
    "grouped = df_lift.groupby('decile')\n",
    "lift_df = pd.DataFrame()\n",
    "lift_df['n_treatment'] = grouped['treatment'].sum()\n",
    "lift_df['n_control'] = grouped['treatment'].count() - grouped['treatment'].sum()\n",
    "lift_df['outcome_treatment'] = grouped.apply(lambda df: df.loc[df['treatment'] == 1, 'outcome'].sum())\n",
    "lift_df['outcome_control'] = grouped.apply(lambda df: df.loc[df['treatment'] == 0, 'outcome'].sum())\n",
    "\n",
    "lift_df['mean_outcome_treatment'] = lift_df['outcome_treatment'] / lift_df['n_treatment'].replace(0, 1)\n",
    "lift_df['mean_outcome_control'] = lift_df['outcome_control'] / lift_df['n_control'].replace(0, 1)\n",
    "\n",
    "lift_df['uplift'] = lift_df['mean_outcome_treatment'] - lift_df['mean_outcome_control']\n",
    "\n",
    "lift_df['total_uplift_effect'] = lift_df['uplift'] * lift_df['n_treatment']\n",
    "\n",
    "lift_df['cumulative_n_treatment'] = lift_df['n_treatment'].cumsum()\n",
    "lift_df['cumulative_uplift_effect'] = lift_df['total_uplift_effect'].cumsum()\n",
    "lift_df['cumulative_mean_uplift'] = lift_df['cumulative_uplift_effect'] / lift_df['cumulative_n_treatment']"
   ]
  },
  {
   "cell_type": "code",
   "execution_count": 65,
   "metadata": {
    "execution": {
     "iopub.execute_input": "2025-10-03T04:24:27.521590Z",
     "iopub.status.busy": "2025-10-03T04:24:27.521254Z",
     "iopub.status.idle": "2025-10-03T04:24:28.334870Z",
     "shell.execute_reply": "2025-10-03T04:24:28.333874Z",
     "shell.execute_reply.started": "2025-10-03T04:24:27.521567Z"
    },
    "trusted": true
   },
   "outputs": [
    {
     "data": {
      "image/png": "[encoded data removed]",
      "text/plain": [
       "<Figure size 800x500 with 1 Axes>"
      ]
     },
     "metadata": {},
     "output_type": "display_data"
    }
   ],
   "source": [
    "plt.figure(figsize=(8, 5))\n",
    "x_values = np.arange(1, 11)\n",
    "y_values = lift_df['cumulative_mean_uplift']\n",
    "plt.plot(x_values, y_values, marker='o', mfc='blue',\n",
    "         label='My Uplift Model', linewidth=2.5, color='skyblue')\n",
    "\n",
    "for x, y in zip(x_values, y_values):\n",
    "    plt.text(x, y + 15, f'{int(y)}', ha='center', fontsize=12, color='black')\n",
    "\n",
    "\n",
    "overall_uplift = (df_lift[df_lift['treatment'] == 1]['outcome'].mean() - \n",
    "                  df_lift[df_lift['treatment'] == 0]['outcome'].mean())\n",
    "plt.plot(np.arange(1, 11), [overall_uplift] * 10, linestyle='--', color='red', label='Random Targeting')\n",
    "\n",
    "plt.ylim([360, 790])\n",
    "plt.title('Cumulative CATE by Ranked Deciles', fontsize=16)\n",
    "plt.xlabel('Population Targeted (%) (Sorted by Descending CATE Score)', fontsize=14)\n",
    "plt.ylabel('Cumulative Average Uplift', fontsize=14)\n",
    "plt.xticks(np.arange(1, 11), [f'{i*10}%' for i in range(1, 11)])\n",
    "plt.legend()\n",
    "plt.grid(True)\n",
    "plt.tight_layout()\n",
    "plt.savefig(FIG_PATH + \"/Uplift_Curve.png\", dpi=200, bbox_inches='tight')\n",
    "plt.show()\n"
   ]
  },
  {
   "cell_type": "code",
   "execution_count": null,
   "metadata": {
    "trusted": true
   },
   "outputs": [],
   "source": []
  }
 ],
 "metadata": {
  "kaggle": {
   "accelerator": "none",
   "dataSources": [
    {
     "datasetId": 178248,
     "sourceId": 1139908,
     "sourceType": "datasetVersion"
    },
    {
     "sourceId": 262485836,
     "sourceType": "kernelVersion"
    }
   ],
   "dockerImageVersionId": 31089,
   "isGpuEnabled": false,
   "isInternetEnabled": true,
   "language": "python",
   "sourceType": "notebook"
  },
  "kernelspec": {
   "display_name": "Python 3",
   "language": "python",
   "name": "python3"
  },
  "language_info": {
   "codemirror_mode": {
    "name": "ipython",
    "version": 3
   },
   "file_extension": ".py",
   "mimetype": "text/x-python",
   "name": "python",
   "nbconvert_exporter": "python",
   "pygments_lexer": "ipython3",
   "version": "3.11.13"
  }
 },
 "nbformat": 4,
 "nbformat_minor": 4
}
