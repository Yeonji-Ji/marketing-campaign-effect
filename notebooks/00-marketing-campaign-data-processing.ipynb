{
 "cells": [
  {
   "cell_type": "code",
   "execution_count": 1,
   "id": "5652a122",
   "metadata": {
    "_cell_guid": "b1076dfc-b9ad-4769-8c92-a6c4dae69d19",
    "_uuid": "8f2839f25d086af736a60e9eeb907d3b93b6e0e5",
    "execution": {
     "iopub.execute_input": "2025-09-17T23:23:57.042085Z",
     "iopub.status.busy": "2025-09-17T23:23:57.041770Z",
     "iopub.status.idle": "2025-09-17T23:23:58.842436Z",
     "shell.execute_reply": "2025-09-17T23:23:58.841417Z"
    },
    "papermill": {
     "duration": 1.808969,
     "end_time": "2025-09-17T23:23:58.843841",
     "exception": false,
     "start_time": "2025-09-17T23:23:57.034872",
     "status": "completed"
    },
    "tags": []
   },
   "outputs": [
    {
     "name": "stdout",
     "output_type": "stream",
     "text": [
      "/kaggle/input/arketing-campaign/marketing_campaign.csv\n",
      "/kaggle/input/arketing-campaign/marketing_campaign.xlsx\n"
     ]
    }
   ],
   "source": [
    "# This Python 3 environment comes with many helpful analytics libraries installed\n",
    "# It is defined by the kaggle/python Docker image: https://github.com/kaggle/docker-python\n",
    "# For example, here's several helpful packages to load\n",
    "\n",
    "import numpy as np # linear algebra\n",
    "import pandas as pd # data processing, CSV file I/O (e.g. pd.read_csv)\n",
    "\n",
    "# Input data files are available in the read-only \"../input/\" directory\n",
    "# For example, running this (by clicking run or pressing Shift+Enter) will list all files under the input directory\n",
    "\n",
    "import os\n",
    "for dirname, _, filenames in os.walk('/kaggle/input'):\n",
    "    for filename in filenames:\n",
    "        print(os.path.join(dirname, filename))\n",
    "\n",
    "# You can write up to 20GB to the current directory (/kaggle/working/) that gets preserved as output when you create a version using \"Save & Run All\" \n",
    "# You can also write temporary files to /kaggle/temp/, but they won't be saved outside of the current session"
   ]
  },
  {
   "cell_type": "code",
   "execution_count": 2,
   "id": "70b29adb",
   "metadata": {
    "execution": {
     "iopub.execute_input": "2025-09-17T23:23:58.855701Z",
     "iopub.status.busy": "2025-09-17T23:23:58.854716Z",
     "iopub.status.idle": "2025-09-17T23:23:58.858927Z",
     "shell.execute_reply": "2025-09-17T23:23:58.858209Z"
    },
    "papermill": {
     "duration": 0.011248,
     "end_time": "2025-09-17T23:23:58.860191",
     "exception": false,
     "start_time": "2025-09-17T23:23:58.848943",
     "status": "completed"
    },
    "tags": []
   },
   "outputs": [],
   "source": [
    "from datetime import datetime"
   ]
  },
  {
   "cell_type": "code",
   "execution_count": 3,
   "id": "c4eccf2d",
   "metadata": {
    "execution": {
     "iopub.execute_input": "2025-09-17T23:23:58.871391Z",
     "iopub.status.busy": "2025-09-17T23:23:58.870612Z",
     "iopub.status.idle": "2025-09-17T23:23:58.875678Z",
     "shell.execute_reply": "2025-09-17T23:23:58.874884Z"
    },
    "papermill": {
     "duration": 0.012008,
     "end_time": "2025-09-17T23:23:58.877029",
     "exception": false,
     "start_time": "2025-09-17T23:23:58.865021",
     "status": "completed"
    },
    "tags": []
   },
   "outputs": [],
   "source": [
    "RAW_PATH = '/kaggle/input/arketing-campaign/marketing_campaign.csv'\n",
    "OUT_DIR = '/kaggle/working/processed'\n",
    "FULL_OUT_CSV = os.path.join(OUT_DIR, 'processed.csv')\n",
    "FULL_OUT_PKL = os.path.join(OUT_DIR, 'processed.pkl')\n",
    "HYP_OUT_CSV = os.path.join(OUT_DIR, 'hypothesis_ready.csv')\n",
    "\n",
    "os.makedirs(OUT_DIR, exist_ok=True)"
   ]
  },
  {
   "cell_type": "markdown",
   "id": "21d11ca7",
   "metadata": {
    "papermill": {
     "duration": 0.004453,
     "end_time": "2025-09-17T23:23:58.886196",
     "exception": false,
     "start_time": "2025-09-17T23:23:58.881743",
     "status": "completed"
    },
    "tags": []
   },
   "source": [
    "<h2> 1. Load & Check the Data </h2>"
   ]
  },
  {
   "cell_type": "code",
   "execution_count": 4,
   "id": "bfd50268",
   "metadata": {
    "execution": {
     "iopub.execute_input": "2025-09-17T23:23:58.896809Z",
     "iopub.status.busy": "2025-09-17T23:23:58.896517Z",
     "iopub.status.idle": "2025-09-17T23:23:58.933482Z",
     "shell.execute_reply": "2025-09-17T23:23:58.932696Z"
    },
    "papermill": {
     "duration": 0.04406,
     "end_time": "2025-09-17T23:23:58.934852",
     "exception": false,
     "start_time": "2025-09-17T23:23:58.890792",
     "status": "completed"
    },
    "tags": []
   },
   "outputs": [
    {
     "data": {
      "text/plain": [
       "(2240, 29)"
      ]
     },
     "execution_count": 4,
     "metadata": {},
     "output_type": "execute_result"
    }
   ],
   "source": [
    "df = pd.read_csv(RAW_PATH, sep=';')\n",
    "df.shape"
   ]
  },
  {
   "cell_type": "code",
   "execution_count": 5,
   "id": "e6d7f3e4",
   "metadata": {
    "execution": {
     "iopub.execute_input": "2025-09-17T23:23:58.946085Z",
     "iopub.status.busy": "2025-09-17T23:23:58.945363Z",
     "iopub.status.idle": "2025-09-17T23:23:58.977122Z",
     "shell.execute_reply": "2025-09-17T23:23:58.976235Z"
    },
    "papermill": {
     "duration": 0.038707,
     "end_time": "2025-09-17T23:23:58.978494",
     "exception": false,
     "start_time": "2025-09-17T23:23:58.939787",
     "status": "completed"
    },
    "tags": []
   },
   "outputs": [
    {
     "data": {
      "text/html": [
       "<div>\n",
       "<style scoped>\n",
       "    .dataframe tbody tr th:only-of-type {\n",
       "        vertical-align: middle;\n",
       "    }\n",
       "\n",
       "    .dataframe tbody tr th {\n",
       "        vertical-align: top;\n",
       "    }\n",
       "\n",
       "    .dataframe thead th {\n",
       "        text-align: right;\n",
       "    }\n",
       "</style>\n",
       "<table border=\"1\" class=\"dataframe\">\n",
       "  <thead>\n",
       "    <tr style=\"text-align: right;\">\n",
       "      <th></th>\n",
       "      <th>ID</th>\n",
       "      <th>Year_Birth</th>\n",
       "      <th>Education</th>\n",
       "      <th>Marital_Status</th>\n",
       "      <th>Income</th>\n",
       "      <th>Kidhome</th>\n",
       "      <th>Teenhome</th>\n",
       "      <th>Dt_Customer</th>\n",
       "      <th>Recency</th>\n",
       "      <th>MntWines</th>\n",
       "      <th>...</th>\n",
       "      <th>NumWebVisitsMonth</th>\n",
       "      <th>AcceptedCmp3</th>\n",
       "      <th>AcceptedCmp4</th>\n",
       "      <th>AcceptedCmp5</th>\n",
       "      <th>AcceptedCmp1</th>\n",
       "      <th>AcceptedCmp2</th>\n",
       "      <th>Complain</th>\n",
       "      <th>Z_CostContact</th>\n",
       "      <th>Z_Revenue</th>\n",
       "      <th>Response</th>\n",
       "    </tr>\n",
       "  </thead>\n",
       "  <tbody>\n",
       "    <tr>\n",
       "      <th>0</th>\n",
       "      <td>5524</td>\n",
       "      <td>1957</td>\n",
       "      <td>Graduation</td>\n",
       "      <td>Single</td>\n",
       "      <td>58138.0</td>\n",
       "      <td>0</td>\n",
       "      <td>0</td>\n",
       "      <td>2012-09-04</td>\n",
       "      <td>58</td>\n",
       "      <td>635</td>\n",
       "      <td>...</td>\n",
       "      <td>7</td>\n",
       "      <td>0</td>\n",
       "      <td>0</td>\n",
       "      <td>0</td>\n",
       "      <td>0</td>\n",
       "      <td>0</td>\n",
       "      <td>0</td>\n",
       "      <td>3</td>\n",
       "      <td>11</td>\n",
       "      <td>1</td>\n",
       "    </tr>\n",
       "    <tr>\n",
       "      <th>1</th>\n",
       "      <td>2174</td>\n",
       "      <td>1954</td>\n",
       "      <td>Graduation</td>\n",
       "      <td>Single</td>\n",
       "      <td>46344.0</td>\n",
       "      <td>1</td>\n",
       "      <td>1</td>\n",
       "      <td>2014-03-08</td>\n",
       "      <td>38</td>\n",
       "      <td>11</td>\n",
       "      <td>...</td>\n",
       "      <td>5</td>\n",
       "      <td>0</td>\n",
       "      <td>0</td>\n",
       "      <td>0</td>\n",
       "      <td>0</td>\n",
       "      <td>0</td>\n",
       "      <td>0</td>\n",
       "      <td>3</td>\n",
       "      <td>11</td>\n",
       "      <td>0</td>\n",
       "    </tr>\n",
       "    <tr>\n",
       "      <th>2</th>\n",
       "      <td>4141</td>\n",
       "      <td>1965</td>\n",
       "      <td>Graduation</td>\n",
       "      <td>Together</td>\n",
       "      <td>71613.0</td>\n",
       "      <td>0</td>\n",
       "      <td>0</td>\n",
       "      <td>2013-08-21</td>\n",
       "      <td>26</td>\n",
       "      <td>426</td>\n",
       "      <td>...</td>\n",
       "      <td>4</td>\n",
       "      <td>0</td>\n",
       "      <td>0</td>\n",
       "      <td>0</td>\n",
       "      <td>0</td>\n",
       "      <td>0</td>\n",
       "      <td>0</td>\n",
       "      <td>3</td>\n",
       "      <td>11</td>\n",
       "      <td>0</td>\n",
       "    </tr>\n",
       "    <tr>\n",
       "      <th>3</th>\n",
       "      <td>6182</td>\n",
       "      <td>1984</td>\n",
       "      <td>Graduation</td>\n",
       "      <td>Together</td>\n",
       "      <td>26646.0</td>\n",
       "      <td>1</td>\n",
       "      <td>0</td>\n",
       "      <td>2014-02-10</td>\n",
       "      <td>26</td>\n",
       "      <td>11</td>\n",
       "      <td>...</td>\n",
       "      <td>6</td>\n",
       "      <td>0</td>\n",
       "      <td>0</td>\n",
       "      <td>0</td>\n",
       "      <td>0</td>\n",
       "      <td>0</td>\n",
       "      <td>0</td>\n",
       "      <td>3</td>\n",
       "      <td>11</td>\n",
       "      <td>0</td>\n",
       "    </tr>\n",
       "    <tr>\n",
       "      <th>4</th>\n",
       "      <td>5324</td>\n",
       "      <td>1981</td>\n",
       "      <td>PhD</td>\n",
       "      <td>Married</td>\n",
       "      <td>58293.0</td>\n",
       "      <td>1</td>\n",
       "      <td>0</td>\n",
       "      <td>2014-01-19</td>\n",
       "      <td>94</td>\n",
       "      <td>173</td>\n",
       "      <td>...</td>\n",
       "      <td>5</td>\n",
       "      <td>0</td>\n",
       "      <td>0</td>\n",
       "      <td>0</td>\n",
       "      <td>0</td>\n",
       "      <td>0</td>\n",
       "      <td>0</td>\n",
       "      <td>3</td>\n",
       "      <td>11</td>\n",
       "      <td>0</td>\n",
       "    </tr>\n",
       "  </tbody>\n",
       "</table>\n",
       "<p>5 rows × 29 columns</p>\n",
       "</div>"
      ],
      "text/plain": [
       "     ID  Year_Birth   Education Marital_Status   Income  Kidhome  Teenhome  \\\n",
       "0  5524        1957  Graduation         Single  58138.0        0         0   \n",
       "1  2174        1954  Graduation         Single  46344.0        1         1   \n",
       "2  4141        1965  Graduation       Together  71613.0        0         0   \n",
       "3  6182        1984  Graduation       Together  26646.0        1         0   \n",
       "4  5324        1981         PhD        Married  58293.0        1         0   \n",
       "\n",
       "  Dt_Customer  Recency  MntWines  ...  NumWebVisitsMonth  AcceptedCmp3  \\\n",
       "0  2012-09-04       58       635  ...                  7             0   \n",
       "1  2014-03-08       38        11  ...                  5             0   \n",
       "2  2013-08-21       26       426  ...                  4             0   \n",
       "3  2014-02-10       26        11  ...                  6             0   \n",
       "4  2014-01-19       94       173  ...                  5             0   \n",
       "\n",
       "   AcceptedCmp4  AcceptedCmp5  AcceptedCmp1  AcceptedCmp2  Complain  \\\n",
       "0             0             0             0             0         0   \n",
       "1             0             0             0             0         0   \n",
       "2             0             0             0             0         0   \n",
       "3             0             0             0             0         0   \n",
       "4             0             0             0             0         0   \n",
       "\n",
       "   Z_CostContact  Z_Revenue  Response  \n",
       "0              3         11         1  \n",
       "1              3         11         0  \n",
       "2              3         11         0  \n",
       "3              3         11         0  \n",
       "4              3         11         0  \n",
       "\n",
       "[5 rows x 29 columns]"
      ]
     },
     "execution_count": 5,
     "metadata": {},
     "output_type": "execute_result"
    }
   ],
   "source": [
    "df.head(5)"
   ]
  },
  {
   "cell_type": "code",
   "execution_count": 6,
   "id": "13698189",
   "metadata": {
    "execution": {
     "iopub.execute_input": "2025-09-17T23:23:58.990552Z",
     "iopub.status.busy": "2025-09-17T23:23:58.990239Z",
     "iopub.status.idle": "2025-09-17T23:23:58.998527Z",
     "shell.execute_reply": "2025-09-17T23:23:58.997874Z"
    },
    "papermill": {
     "duration": 0.016028,
     "end_time": "2025-09-17T23:23:58.999786",
     "exception": false,
     "start_time": "2025-09-17T23:23:58.983758",
     "status": "completed"
    },
    "tags": []
   },
   "outputs": [
    {
     "data": {
      "text/plain": [
       "Income               24\n",
       "ID                    0\n",
       "NumDealsPurchases     0\n",
       "Z_Revenue             0\n",
       "Z_CostContact         0\n",
       "dtype: int64"
      ]
     },
     "execution_count": 6,
     "metadata": {},
     "output_type": "execute_result"
    }
   ],
   "source": [
    "df.isna().sum().sort_values(ascending=False).head()"
   ]
  },
  {
   "cell_type": "markdown",
   "id": "185b6c9e",
   "metadata": {
    "papermill": {
     "duration": 0.004915,
     "end_time": "2025-09-17T23:23:59.010778",
     "exception": false,
     "start_time": "2025-09-17T23:23:59.005863",
     "status": "completed"
    },
    "tags": []
   },
   "source": [
    "<h2> 2. Process Missing Data</h2>"
   ]
  },
  {
   "cell_type": "code",
   "execution_count": 7,
   "id": "68e7927d",
   "metadata": {
    "execution": {
     "iopub.execute_input": "2025-09-17T23:23:59.022083Z",
     "iopub.status.busy": "2025-09-17T23:23:59.021767Z",
     "iopub.status.idle": "2025-09-17T23:23:59.031766Z",
     "shell.execute_reply": "2025-09-17T23:23:59.030939Z"
    },
    "papermill": {
     "duration": 0.017217,
     "end_time": "2025-09-17T23:23:59.033106",
     "exception": false,
     "start_time": "2025-09-17T23:23:59.015889",
     "status": "completed"
    },
    "tags": []
   },
   "outputs": [
    {
     "data": {
      "text/plain": [
       "ID                   0\n",
       "NumDealsPurchases    0\n",
       "Z_Revenue            0\n",
       "Z_CostContact        0\n",
       "Complain             0\n",
       "dtype: int64"
      ]
     },
     "execution_count": 7,
     "metadata": {},
     "output_type": "execute_result"
    }
   ],
   "source": [
    "# Missing Income Data to Median\n",
    "income_median = df['Income'].median(skipna=True)\n",
    "df['Income'] = df['Income'].fillna(income_median)\n",
    "df.isna().sum().sort_values(ascending=False).head()"
   ]
  },
  {
   "cell_type": "code",
   "execution_count": 8,
   "id": "db398af9",
   "metadata": {
    "execution": {
     "iopub.execute_input": "2025-09-17T23:23:59.044612Z",
     "iopub.status.busy": "2025-09-17T23:23:59.044309Z",
     "iopub.status.idle": "2025-09-17T23:23:59.053367Z",
     "shell.execute_reply": "2025-09-17T23:23:59.052615Z"
    },
    "papermill": {
     "duration": 0.016313,
     "end_time": "2025-09-17T23:23:59.054689",
     "exception": false,
     "start_time": "2025-09-17T23:23:59.038376",
     "status": "completed"
    },
    "tags": []
   },
   "outputs": [
    {
     "data": {
      "text/plain": [
       "1950    1940\n",
       "424     1941\n",
       "894     1943\n",
       "1150    1943\n",
       "39      1943\n",
       "Name: Year_Birth, dtype: int64"
      ]
     },
     "execution_count": 8,
     "metadata": {},
     "output_type": "execute_result"
    }
   ],
   "source": [
    "# Delete if year_birth < 1925 (age higher than 100) OR age lower than 10\n",
    "df = df[df['Year_Birth'].between(1925, datetime.now().year - 10)]\n",
    "df['Year_Birth'].sort_values().head()"
   ]
  },
  {
   "cell_type": "code",
   "execution_count": 9,
   "id": "e4101ba0",
   "metadata": {
    "execution": {
     "iopub.execute_input": "2025-09-17T23:23:59.066257Z",
     "iopub.status.busy": "2025-09-17T23:23:59.066003Z",
     "iopub.status.idle": "2025-09-17T23:23:59.072262Z",
     "shell.execute_reply": "2025-09-17T23:23:59.071513Z"
    },
    "papermill": {
     "duration": 0.013539,
     "end_time": "2025-09-17T23:23:59.073531",
     "exception": false,
     "start_time": "2025-09-17T23:23:59.059992",
     "status": "completed"
    },
    "tags": []
   },
   "outputs": [
    {
     "data": {
      "text/plain": [
       "Index(['ID', 'Year_Birth', 'Education', 'Marital_Status', 'Income', 'Kidhome',\n",
       "       'Teenhome', 'Dt_Customer', 'Recency', 'MntWines', 'MntFruits',\n",
       "       'MntMeatProducts', 'MntFishProducts', 'MntSweetProducts',\n",
       "       'MntGoldProds', 'NumDealsPurchases', 'NumWebPurchases',\n",
       "       'NumCatalogPurchases', 'NumStorePurchases', 'NumWebVisitsMonth',\n",
       "       'AcceptedCmp3', 'AcceptedCmp4', 'AcceptedCmp5', 'AcceptedCmp1',\n",
       "       'AcceptedCmp2', 'Complain', 'Z_CostContact', 'Z_Revenue', 'Response'],\n",
       "      dtype='object')"
      ]
     },
     "execution_count": 9,
     "metadata": {},
     "output_type": "execute_result"
    }
   ],
   "source": [
    "df.columns"
   ]
  },
  {
   "cell_type": "code",
   "execution_count": 10,
   "id": "8d18b596",
   "metadata": {
    "execution": {
     "iopub.execute_input": "2025-09-17T23:23:59.085715Z",
     "iopub.status.busy": "2025-09-17T23:23:59.085073Z",
     "iopub.status.idle": "2025-09-17T23:23:59.091367Z",
     "shell.execute_reply": "2025-09-17T23:23:59.090724Z"
    },
    "papermill": {
     "duration": 0.013917,
     "end_time": "2025-09-17T23:23:59.092757",
     "exception": false,
     "start_time": "2025-09-17T23:23:59.078840",
     "status": "completed"
    },
    "tags": []
   },
   "outputs": [],
   "source": [
    "CHANNEL_COLS = [\n",
    "    \"NumWebPurchases\", \"NumCatalogPurchases\", \"NumStorePurchases\",\n",
    "    \"NumWebVisitsMonth\", \"NumDealsPurchases\"\n",
    "]\n",
    "for c in CHANNEL_COLS:\n",
    "    if c in df.columns:\n",
    "        df[c] = df[c].fillna(0)"
   ]
  },
  {
   "cell_type": "code",
   "execution_count": 11,
   "id": "440a631c",
   "metadata": {
    "execution": {
     "iopub.execute_input": "2025-09-17T23:23:59.104548Z",
     "iopub.status.busy": "2025-09-17T23:23:59.104254Z",
     "iopub.status.idle": "2025-09-17T23:23:59.112450Z",
     "shell.execute_reply": "2025-09-17T23:23:59.111702Z"
    },
    "papermill": {
     "duration": 0.015677,
     "end_time": "2025-09-17T23:23:59.113866",
     "exception": false,
     "start_time": "2025-09-17T23:23:59.098189",
     "status": "completed"
    },
    "tags": []
   },
   "outputs": [
    {
     "data": {
      "text/plain": [
       "ID                   0\n",
       "NumDealsPurchases    0\n",
       "Z_Revenue            0\n",
       "Z_CostContact        0\n",
       "Complain             0\n",
       "dtype: int64"
      ]
     },
     "execution_count": 11,
     "metadata": {},
     "output_type": "execute_result"
    }
   ],
   "source": [
    "df.isna().sum().sort_values(ascending=False).head()"
   ]
  },
  {
   "cell_type": "code",
   "execution_count": 12,
   "id": "0d796593",
   "metadata": {
    "execution": {
     "iopub.execute_input": "2025-09-17T23:23:59.125859Z",
     "iopub.status.busy": "2025-09-17T23:23:59.125589Z",
     "iopub.status.idle": "2025-09-17T23:23:59.129911Z",
     "shell.execute_reply": "2025-09-17T23:23:59.129152Z"
    },
    "papermill": {
     "duration": 0.011757,
     "end_time": "2025-09-17T23:23:59.131126",
     "exception": false,
     "start_time": "2025-09-17T23:23:59.119369",
     "status": "completed"
    },
    "tags": []
   },
   "outputs": [],
   "source": [
    "core_cols = ['ID', 'Year_Birth', 'Education', 'Marital_Status', 'Income', 'Kidhome',\n",
    "             'Teenhome', 'Dt_Customer', 'Recency', 'MntWines', 'MntFruits',\n",
    "             'MntMeatProducts', 'MntFishProducts', 'MntSweetProducts',\n",
    "             'MntGoldProds', 'NumDealsPurchases', 'NumWebPurchases',\n",
    "             'NumCatalogPurchases', 'NumStorePurchases', 'NumWebVisitsMonth',\n",
    "             'AcceptedCmp3', 'AcceptedCmp4', 'AcceptedCmp5', 'AcceptedCmp1',\n",
    "             'AcceptedCmp2', 'Complain', 'Response']"
   ]
  },
  {
   "cell_type": "code",
   "execution_count": 13,
   "id": "1375ab13",
   "metadata": {
    "execution": {
     "iopub.execute_input": "2025-09-17T23:23:59.142674Z",
     "iopub.status.busy": "2025-09-17T23:23:59.142401Z",
     "iopub.status.idle": "2025-09-17T23:23:59.149795Z",
     "shell.execute_reply": "2025-09-17T23:23:59.149009Z"
    },
    "papermill": {
     "duration": 0.014525,
     "end_time": "2025-09-17T23:23:59.151056",
     "exception": false,
     "start_time": "2025-09-17T23:23:59.136531",
     "status": "completed"
    },
    "tags": []
   },
   "outputs": [],
   "source": [
    "df = df.dropna(subset=[c for c in core_cols if c in df.columns])"
   ]
  },
  {
   "cell_type": "markdown",
   "id": "905a4836",
   "metadata": {
    "papermill": {
     "duration": 0.005246,
     "end_time": "2025-09-17T23:23:59.161775",
     "exception": false,
     "start_time": "2025-09-17T23:23:59.156529",
     "status": "completed"
    },
    "tags": []
   },
   "source": [
    "<h2>3. Remove Income Outliers</h2>\n",
    "<h3>: Used IQR Method</h3>"
   ]
  },
  {
   "cell_type": "code",
   "execution_count": 14,
   "id": "07835c53",
   "metadata": {
    "execution": {
     "iopub.execute_input": "2025-09-17T23:23:59.173326Z",
     "iopub.status.busy": "2025-09-17T23:23:59.173030Z",
     "iopub.status.idle": "2025-09-17T23:23:59.188675Z",
     "shell.execute_reply": "2025-09-17T23:23:59.187826Z"
    },
    "papermill": {
     "duration": 0.02297,
     "end_time": "2025-09-17T23:23:59.189943",
     "exception": false,
     "start_time": "2025-09-17T23:23:59.166973",
     "status": "completed"
    },
    "tags": []
   },
   "outputs": [
    {
     "name": "stdout",
     "output_type": "stream",
     "text": [
      "Shape -> before: (2237, 29), after: (2229, 29)\n",
      "removed 8 outliers\n"
     ]
    }
   ],
   "source": [
    "Q1 = df['Income'].quantile(0.25)\n",
    "Q3 = df['Income'].quantile(0.75)\n",
    "IQR = Q3 - Q1\n",
    "upper_fence = Q3 + 1.5*IQR\n",
    "shape_before = df.shape\n",
    "df = df[df['Income'] <= upper_fence]\n",
    "shape_after = df.shape\n",
    "print(f'Shape -> before: {shape_before}, after: {shape_after}')\n",
    "print(f'removed {shape_before[0] - shape_after[0]} outliers')"
   ]
  },
  {
   "cell_type": "markdown",
   "id": "002c4b37",
   "metadata": {
    "papermill": {
     "duration": 0.005254,
     "end_time": "2025-09-17T23:23:59.200818",
     "exception": false,
     "start_time": "2025-09-17T23:23:59.195564",
     "status": "completed"
    },
    "tags": []
   },
   "source": [
    "<h2>4. Include \"Age\" and \"TotalSpend\"</h2>"
   ]
  },
  {
   "cell_type": "code",
   "execution_count": 15,
   "id": "6569cad5",
   "metadata": {
    "execution": {
     "iopub.execute_input": "2025-09-17T23:23:59.212938Z",
     "iopub.status.busy": "2025-09-17T23:23:59.212330Z",
     "iopub.status.idle": "2025-09-17T23:23:59.219534Z",
     "shell.execute_reply": "2025-09-17T23:23:59.218798Z"
    },
    "papermill": {
     "duration": 0.014639,
     "end_time": "2025-09-17T23:23:59.220815",
     "exception": false,
     "start_time": "2025-09-17T23:23:59.206176",
     "status": "completed"
    },
    "tags": []
   },
   "outputs": [],
   "source": [
    "REFERENCE_YEAR = 2025\n",
    "df['Age'] = REFERENCE_YEAR - df['Year_Birth']\n",
    "spend_cols = ['MntWines', 'MntFruits', 'MntMeatProducts', \n",
    "              'MntFishProducts', 'MntSweetProducts','MntGoldProds']\n",
    "df['TotalSpend'] = df[spend_cols].sum(axis=1)"
   ]
  },
  {
   "cell_type": "code",
   "execution_count": 16,
   "id": "e7ad6cd7",
   "metadata": {
    "execution": {
     "iopub.execute_input": "2025-09-17T23:23:59.232710Z",
     "iopub.status.busy": "2025-09-17T23:23:59.232445Z",
     "iopub.status.idle": "2025-09-17T23:23:59.247290Z",
     "shell.execute_reply": "2025-09-17T23:23:59.246532Z"
    },
    "papermill": {
     "duration": 0.022384,
     "end_time": "2025-09-17T23:23:59.248537",
     "exception": false,
     "start_time": "2025-09-17T23:23:59.226153",
     "status": "completed"
    },
    "tags": []
   },
   "outputs": [
    {
     "data": {
      "text/html": [
       "<div>\n",
       "<style scoped>\n",
       "    .dataframe tbody tr th:only-of-type {\n",
       "        vertical-align: middle;\n",
       "    }\n",
       "\n",
       "    .dataframe tbody tr th {\n",
       "        vertical-align: top;\n",
       "    }\n",
       "\n",
       "    .dataframe thead th {\n",
       "        text-align: right;\n",
       "    }\n",
       "</style>\n",
       "<table border=\"1\" class=\"dataframe\">\n",
       "  <thead>\n",
       "    <tr style=\"text-align: right;\">\n",
       "      <th></th>\n",
       "      <th>ID</th>\n",
       "      <th>Year_Birth</th>\n",
       "      <th>Education</th>\n",
       "      <th>Marital_Status</th>\n",
       "      <th>Income</th>\n",
       "      <th>Kidhome</th>\n",
       "      <th>Teenhome</th>\n",
       "      <th>Dt_Customer</th>\n",
       "      <th>Recency</th>\n",
       "      <th>MntWines</th>\n",
       "      <th>...</th>\n",
       "      <th>AcceptedCmp4</th>\n",
       "      <th>AcceptedCmp5</th>\n",
       "      <th>AcceptedCmp1</th>\n",
       "      <th>AcceptedCmp2</th>\n",
       "      <th>Complain</th>\n",
       "      <th>Z_CostContact</th>\n",
       "      <th>Z_Revenue</th>\n",
       "      <th>Response</th>\n",
       "      <th>Age</th>\n",
       "      <th>TotalSpend</th>\n",
       "    </tr>\n",
       "  </thead>\n",
       "  <tbody>\n",
       "    <tr>\n",
       "      <th>0</th>\n",
       "      <td>5524</td>\n",
       "      <td>1957</td>\n",
       "      <td>Graduation</td>\n",
       "      <td>Single</td>\n",
       "      <td>58138.0</td>\n",
       "      <td>0</td>\n",
       "      <td>0</td>\n",
       "      <td>2012-09-04</td>\n",
       "      <td>58</td>\n",
       "      <td>635</td>\n",
       "      <td>...</td>\n",
       "      <td>0</td>\n",
       "      <td>0</td>\n",
       "      <td>0</td>\n",
       "      <td>0</td>\n",
       "      <td>0</td>\n",
       "      <td>3</td>\n",
       "      <td>11</td>\n",
       "      <td>1</td>\n",
       "      <td>68</td>\n",
       "      <td>1617</td>\n",
       "    </tr>\n",
       "    <tr>\n",
       "      <th>1</th>\n",
       "      <td>2174</td>\n",
       "      <td>1954</td>\n",
       "      <td>Graduation</td>\n",
       "      <td>Single</td>\n",
       "      <td>46344.0</td>\n",
       "      <td>1</td>\n",
       "      <td>1</td>\n",
       "      <td>2014-03-08</td>\n",
       "      <td>38</td>\n",
       "      <td>11</td>\n",
       "      <td>...</td>\n",
       "      <td>0</td>\n",
       "      <td>0</td>\n",
       "      <td>0</td>\n",
       "      <td>0</td>\n",
       "      <td>0</td>\n",
       "      <td>3</td>\n",
       "      <td>11</td>\n",
       "      <td>0</td>\n",
       "      <td>71</td>\n",
       "      <td>27</td>\n",
       "    </tr>\n",
       "    <tr>\n",
       "      <th>2</th>\n",
       "      <td>4141</td>\n",
       "      <td>1965</td>\n",
       "      <td>Graduation</td>\n",
       "      <td>Together</td>\n",
       "      <td>71613.0</td>\n",
       "      <td>0</td>\n",
       "      <td>0</td>\n",
       "      <td>2013-08-21</td>\n",
       "      <td>26</td>\n",
       "      <td>426</td>\n",
       "      <td>...</td>\n",
       "      <td>0</td>\n",
       "      <td>0</td>\n",
       "      <td>0</td>\n",
       "      <td>0</td>\n",
       "      <td>0</td>\n",
       "      <td>3</td>\n",
       "      <td>11</td>\n",
       "      <td>0</td>\n",
       "      <td>60</td>\n",
       "      <td>776</td>\n",
       "    </tr>\n",
       "    <tr>\n",
       "      <th>3</th>\n",
       "      <td>6182</td>\n",
       "      <td>1984</td>\n",
       "      <td>Graduation</td>\n",
       "      <td>Together</td>\n",
       "      <td>26646.0</td>\n",
       "      <td>1</td>\n",
       "      <td>0</td>\n",
       "      <td>2014-02-10</td>\n",
       "      <td>26</td>\n",
       "      <td>11</td>\n",
       "      <td>...</td>\n",
       "      <td>0</td>\n",
       "      <td>0</td>\n",
       "      <td>0</td>\n",
       "      <td>0</td>\n",
       "      <td>0</td>\n",
       "      <td>3</td>\n",
       "      <td>11</td>\n",
       "      <td>0</td>\n",
       "      <td>41</td>\n",
       "      <td>53</td>\n",
       "    </tr>\n",
       "    <tr>\n",
       "      <th>4</th>\n",
       "      <td>5324</td>\n",
       "      <td>1981</td>\n",
       "      <td>PhD</td>\n",
       "      <td>Married</td>\n",
       "      <td>58293.0</td>\n",
       "      <td>1</td>\n",
       "      <td>0</td>\n",
       "      <td>2014-01-19</td>\n",
       "      <td>94</td>\n",
       "      <td>173</td>\n",
       "      <td>...</td>\n",
       "      <td>0</td>\n",
       "      <td>0</td>\n",
       "      <td>0</td>\n",
       "      <td>0</td>\n",
       "      <td>0</td>\n",
       "      <td>3</td>\n",
       "      <td>11</td>\n",
       "      <td>0</td>\n",
       "      <td>44</td>\n",
       "      <td>422</td>\n",
       "    </tr>\n",
       "  </tbody>\n",
       "</table>\n",
       "<p>5 rows × 31 columns</p>\n",
       "</div>"
      ],
      "text/plain": [
       "     ID  Year_Birth   Education Marital_Status   Income  Kidhome  Teenhome  \\\n",
       "0  5524        1957  Graduation         Single  58138.0        0         0   \n",
       "1  2174        1954  Graduation         Single  46344.0        1         1   \n",
       "2  4141        1965  Graduation       Together  71613.0        0         0   \n",
       "3  6182        1984  Graduation       Together  26646.0        1         0   \n",
       "4  5324        1981         PhD        Married  58293.0        1         0   \n",
       "\n",
       "  Dt_Customer  Recency  MntWines  ...  AcceptedCmp4  AcceptedCmp5  \\\n",
       "0  2012-09-04       58       635  ...             0             0   \n",
       "1  2014-03-08       38        11  ...             0             0   \n",
       "2  2013-08-21       26       426  ...             0             0   \n",
       "3  2014-02-10       26        11  ...             0             0   \n",
       "4  2014-01-19       94       173  ...             0             0   \n",
       "\n",
       "   AcceptedCmp1  AcceptedCmp2  Complain  Z_CostContact  Z_Revenue  Response  \\\n",
       "0             0             0         0              3         11         1   \n",
       "1             0             0         0              3         11         0   \n",
       "2             0             0         0              3         11         0   \n",
       "3             0             0         0              3         11         0   \n",
       "4             0             0         0              3         11         0   \n",
       "\n",
       "   Age  TotalSpend  \n",
       "0   68        1617  \n",
       "1   71          27  \n",
       "2   60         776  \n",
       "3   41          53  \n",
       "4   44         422  \n",
       "\n",
       "[5 rows x 31 columns]"
      ]
     },
     "execution_count": 16,
     "metadata": {},
     "output_type": "execute_result"
    }
   ],
   "source": [
    "df.head(5)"
   ]
  },
  {
   "cell_type": "markdown",
   "id": "c622e0d8",
   "metadata": {
    "papermill": {
     "duration": 0.005392,
     "end_time": "2025-09-17T23:23:59.259691",
     "exception": false,
     "start_time": "2025-09-17T23:23:59.254299",
     "status": "completed"
    },
    "tags": []
   },
   "source": [
    "<h2>5. Process Response to Campaigns</h2>"
   ]
  },
  {
   "cell_type": "code",
   "execution_count": 17,
   "id": "2093c4bf",
   "metadata": {
    "execution": {
     "iopub.execute_input": "2025-09-17T23:23:59.272446Z",
     "iopub.status.busy": "2025-09-17T23:23:59.271837Z",
     "iopub.status.idle": "2025-09-17T23:23:59.277799Z",
     "shell.execute_reply": "2025-09-17T23:23:59.277035Z"
    },
    "papermill": {
     "duration": 0.013703,
     "end_time": "2025-09-17T23:23:59.279073",
     "exception": false,
     "start_time": "2025-09-17T23:23:59.265370",
     "status": "completed"
    },
    "tags": []
   },
   "outputs": [],
   "source": [
    "# Make all Responses to 1/0\n",
    "true_like = {1, \"1\", True, \"True\", \"TRUE\", \"Yes\", \"YES\", \"Y\"}\n",
    "df['Response'] = df['Response'].apply(lambda x: 1 if x in true_like else 0).astype(int)"
   ]
  },
  {
   "cell_type": "code",
   "execution_count": 18,
   "id": "2a3cd73e",
   "metadata": {
    "execution": {
     "iopub.execute_input": "2025-09-17T23:23:59.291475Z",
     "iopub.status.busy": "2025-09-17T23:23:59.291196Z",
     "iopub.status.idle": "2025-09-17T23:23:59.297923Z",
     "shell.execute_reply": "2025-09-17T23:23:59.297275Z"
    },
    "papermill": {
     "duration": 0.014542,
     "end_time": "2025-09-17T23:23:59.299255",
     "exception": false,
     "start_time": "2025-09-17T23:23:59.284713",
     "status": "completed"
    },
    "tags": []
   },
   "outputs": [],
   "source": [
    "accepted_cols = [c for c in [\"AcceptedCmp1\",\"AcceptedCmp2\",\"AcceptedCmp3\",\"AcceptedCmp4\",\"AcceptedCmp5\"] if c in df.columns]\n",
    "if accepted_cols:\n",
    "    df['AcceptedCnt'] = df[accepted_cols].sum(axis=1).astype(int)"
   ]
  },
  {
   "cell_type": "code",
   "execution_count": 19,
   "id": "e4219dfe",
   "metadata": {
    "execution": {
     "iopub.execute_input": "2025-09-17T23:23:59.311622Z",
     "iopub.status.busy": "2025-09-17T23:23:59.311340Z",
     "iopub.status.idle": "2025-09-17T23:23:59.326854Z",
     "shell.execute_reply": "2025-09-17T23:23:59.326100Z"
    },
    "papermill": {
     "duration": 0.023113,
     "end_time": "2025-09-17T23:23:59.328120",
     "exception": false,
     "start_time": "2025-09-17T23:23:59.305007",
     "status": "completed"
    },
    "tags": []
   },
   "outputs": [
    {
     "data": {
      "text/html": [
       "<div>\n",
       "<style scoped>\n",
       "    .dataframe tbody tr th:only-of-type {\n",
       "        vertical-align: middle;\n",
       "    }\n",
       "\n",
       "    .dataframe tbody tr th {\n",
       "        vertical-align: top;\n",
       "    }\n",
       "\n",
       "    .dataframe thead th {\n",
       "        text-align: right;\n",
       "    }\n",
       "</style>\n",
       "<table border=\"1\" class=\"dataframe\">\n",
       "  <thead>\n",
       "    <tr style=\"text-align: right;\">\n",
       "      <th></th>\n",
       "      <th>ID</th>\n",
       "      <th>Year_Birth</th>\n",
       "      <th>Education</th>\n",
       "      <th>Marital_Status</th>\n",
       "      <th>Income</th>\n",
       "      <th>Kidhome</th>\n",
       "      <th>Teenhome</th>\n",
       "      <th>Dt_Customer</th>\n",
       "      <th>Recency</th>\n",
       "      <th>MntWines</th>\n",
       "      <th>...</th>\n",
       "      <th>AcceptedCmp5</th>\n",
       "      <th>AcceptedCmp1</th>\n",
       "      <th>AcceptedCmp2</th>\n",
       "      <th>Complain</th>\n",
       "      <th>Z_CostContact</th>\n",
       "      <th>Z_Revenue</th>\n",
       "      <th>Response</th>\n",
       "      <th>Age</th>\n",
       "      <th>TotalSpend</th>\n",
       "      <th>AcceptedCnt</th>\n",
       "    </tr>\n",
       "  </thead>\n",
       "  <tbody>\n",
       "    <tr>\n",
       "      <th>0</th>\n",
       "      <td>5524</td>\n",
       "      <td>1957</td>\n",
       "      <td>Graduation</td>\n",
       "      <td>Single</td>\n",
       "      <td>58138.0</td>\n",
       "      <td>0</td>\n",
       "      <td>0</td>\n",
       "      <td>2012-09-04</td>\n",
       "      <td>58</td>\n",
       "      <td>635</td>\n",
       "      <td>...</td>\n",
       "      <td>0</td>\n",
       "      <td>0</td>\n",
       "      <td>0</td>\n",
       "      <td>0</td>\n",
       "      <td>3</td>\n",
       "      <td>11</td>\n",
       "      <td>1</td>\n",
       "      <td>68</td>\n",
       "      <td>1617</td>\n",
       "      <td>0</td>\n",
       "    </tr>\n",
       "    <tr>\n",
       "      <th>1</th>\n",
       "      <td>2174</td>\n",
       "      <td>1954</td>\n",
       "      <td>Graduation</td>\n",
       "      <td>Single</td>\n",
       "      <td>46344.0</td>\n",
       "      <td>1</td>\n",
       "      <td>1</td>\n",
       "      <td>2014-03-08</td>\n",
       "      <td>38</td>\n",
       "      <td>11</td>\n",
       "      <td>...</td>\n",
       "      <td>0</td>\n",
       "      <td>0</td>\n",
       "      <td>0</td>\n",
       "      <td>0</td>\n",
       "      <td>3</td>\n",
       "      <td>11</td>\n",
       "      <td>0</td>\n",
       "      <td>71</td>\n",
       "      <td>27</td>\n",
       "      <td>0</td>\n",
       "    </tr>\n",
       "    <tr>\n",
       "      <th>2</th>\n",
       "      <td>4141</td>\n",
       "      <td>1965</td>\n",
       "      <td>Graduation</td>\n",
       "      <td>Together</td>\n",
       "      <td>71613.0</td>\n",
       "      <td>0</td>\n",
       "      <td>0</td>\n",
       "      <td>2013-08-21</td>\n",
       "      <td>26</td>\n",
       "      <td>426</td>\n",
       "      <td>...</td>\n",
       "      <td>0</td>\n",
       "      <td>0</td>\n",
       "      <td>0</td>\n",
       "      <td>0</td>\n",
       "      <td>3</td>\n",
       "      <td>11</td>\n",
       "      <td>0</td>\n",
       "      <td>60</td>\n",
       "      <td>776</td>\n",
       "      <td>0</td>\n",
       "    </tr>\n",
       "    <tr>\n",
       "      <th>3</th>\n",
       "      <td>6182</td>\n",
       "      <td>1984</td>\n",
       "      <td>Graduation</td>\n",
       "      <td>Together</td>\n",
       "      <td>26646.0</td>\n",
       "      <td>1</td>\n",
       "      <td>0</td>\n",
       "      <td>2014-02-10</td>\n",
       "      <td>26</td>\n",
       "      <td>11</td>\n",
       "      <td>...</td>\n",
       "      <td>0</td>\n",
       "      <td>0</td>\n",
       "      <td>0</td>\n",
       "      <td>0</td>\n",
       "      <td>3</td>\n",
       "      <td>11</td>\n",
       "      <td>0</td>\n",
       "      <td>41</td>\n",
       "      <td>53</td>\n",
       "      <td>0</td>\n",
       "    </tr>\n",
       "    <tr>\n",
       "      <th>4</th>\n",
       "      <td>5324</td>\n",
       "      <td>1981</td>\n",
       "      <td>PhD</td>\n",
       "      <td>Married</td>\n",
       "      <td>58293.0</td>\n",
       "      <td>1</td>\n",
       "      <td>0</td>\n",
       "      <td>2014-01-19</td>\n",
       "      <td>94</td>\n",
       "      <td>173</td>\n",
       "      <td>...</td>\n",
       "      <td>0</td>\n",
       "      <td>0</td>\n",
       "      <td>0</td>\n",
       "      <td>0</td>\n",
       "      <td>3</td>\n",
       "      <td>11</td>\n",
       "      <td>0</td>\n",
       "      <td>44</td>\n",
       "      <td>422</td>\n",
       "      <td>0</td>\n",
       "    </tr>\n",
       "  </tbody>\n",
       "</table>\n",
       "<p>5 rows × 32 columns</p>\n",
       "</div>"
      ],
      "text/plain": [
       "     ID  Year_Birth   Education Marital_Status   Income  Kidhome  Teenhome  \\\n",
       "0  5524        1957  Graduation         Single  58138.0        0         0   \n",
       "1  2174        1954  Graduation         Single  46344.0        1         1   \n",
       "2  4141        1965  Graduation       Together  71613.0        0         0   \n",
       "3  6182        1984  Graduation       Together  26646.0        1         0   \n",
       "4  5324        1981         PhD        Married  58293.0        1         0   \n",
       "\n",
       "  Dt_Customer  Recency  MntWines  ...  AcceptedCmp5  AcceptedCmp1  \\\n",
       "0  2012-09-04       58       635  ...             0             0   \n",
       "1  2014-03-08       38        11  ...             0             0   \n",
       "2  2013-08-21       26       426  ...             0             0   \n",
       "3  2014-02-10       26        11  ...             0             0   \n",
       "4  2014-01-19       94       173  ...             0             0   \n",
       "\n",
       "   AcceptedCmp2  Complain  Z_CostContact  Z_Revenue  Response  Age  \\\n",
       "0             0         0              3         11         1   68   \n",
       "1             0         0              3         11         0   71   \n",
       "2             0         0              3         11         0   60   \n",
       "3             0         0              3         11         0   41   \n",
       "4             0         0              3         11         0   44   \n",
       "\n",
       "   TotalSpend  AcceptedCnt  \n",
       "0        1617            0  \n",
       "1          27            0  \n",
       "2         776            0  \n",
       "3          53            0  \n",
       "4         422            0  \n",
       "\n",
       "[5 rows x 32 columns]"
      ]
     },
     "execution_count": 19,
     "metadata": {},
     "output_type": "execute_result"
    }
   ],
   "source": [
    "df.head(5)"
   ]
  },
  {
   "cell_type": "markdown",
   "id": "9032d4d8",
   "metadata": {
    "papermill": {
     "duration": 0.005764,
     "end_time": "2025-09-17T23:23:59.340242",
     "exception": false,
     "start_time": "2025-09-17T23:23:59.334478",
     "status": "completed"
    },
    "tags": []
   },
   "source": [
    "<h2>6. Save the Processed Data </h2>"
   ]
  },
  {
   "cell_type": "code",
   "execution_count": 20,
   "id": "64e7dc19",
   "metadata": {
    "execution": {
     "iopub.execute_input": "2025-09-17T23:23:59.353371Z",
     "iopub.status.busy": "2025-09-17T23:23:59.353094Z",
     "iopub.status.idle": "2025-09-17T23:23:59.357448Z",
     "shell.execute_reply": "2025-09-17T23:23:59.356816Z"
    },
    "papermill": {
     "duration": 0.012446,
     "end_time": "2025-09-17T23:23:59.358725",
     "exception": false,
     "start_time": "2025-09-17T23:23:59.346279",
     "status": "completed"
    },
    "tags": []
   },
   "outputs": [],
   "source": [
    "final_cols= ['ID', 'Year_Birth', 'Age', 'Education', 'Marital_Status', 'Income', 'Kidhome',\n",
    "             'Teenhome', 'Dt_Customer', 'Recency', 'MntWines', 'MntFruits',\n",
    "             'MntMeatProducts', 'MntFishProducts', 'MntSweetProducts',\n",
    "             'MntGoldProds', 'NumDealsPurchases', 'NumWebPurchases',\n",
    "             'NumCatalogPurchases', 'NumStorePurchases', 'NumWebVisitsMonth',\n",
    "             'AcceptedCmp3', 'AcceptedCmp4', 'AcceptedCmp5', 'AcceptedCmp1',\n",
    "             'AcceptedCmp2', 'Complain', 'Response', 'TotalSpend', 'AcceptedCnt']"
   ]
  },
  {
   "cell_type": "code",
   "execution_count": 21,
   "id": "ed0c5c78",
   "metadata": {
    "execution": {
     "iopub.execute_input": "2025-09-17T23:23:59.371606Z",
     "iopub.status.busy": "2025-09-17T23:23:59.371330Z",
     "iopub.status.idle": "2025-09-17T23:23:59.376982Z",
     "shell.execute_reply": "2025-09-17T23:23:59.376356Z"
    },
    "papermill": {
     "duration": 0.013478,
     "end_time": "2025-09-17T23:23:59.378207",
     "exception": false,
     "start_time": "2025-09-17T23:23:59.364729",
     "status": "completed"
    },
    "tags": []
   },
   "outputs": [],
   "source": [
    "hypo_df = df[final_cols].copy()"
   ]
  },
  {
   "cell_type": "code",
   "execution_count": 22,
   "id": "597b7e9f",
   "metadata": {
    "execution": {
     "iopub.execute_input": "2025-09-17T23:23:59.391387Z",
     "iopub.status.busy": "2025-09-17T23:23:59.391112Z",
     "iopub.status.idle": "2025-09-17T23:23:59.442374Z",
     "shell.execute_reply": "2025-09-17T23:23:59.441382Z"
    },
    "papermill": {
     "duration": 0.059452,
     "end_time": "2025-09-17T23:23:59.443874",
     "exception": false,
     "start_time": "2025-09-17T23:23:59.384422",
     "status": "completed"
    },
    "tags": []
   },
   "outputs": [
    {
     "name": "stdout",
     "output_type": "stream",
     "text": [
      "Saved:\n",
      " - /kaggle/working/processed/processed.csv\n",
      " - /kaggle/working/processed/processed.pkl\n",
      " - /kaggle/working/processed/hypothesis_ready.csv\n"
     ]
    }
   ],
   "source": [
    "df.to_csv(FULL_OUT_CSV, index=False)\n",
    "df.to_pickle(FULL_OUT_PKL)\n",
    "hypo_df.to_csv(HYP_OUT_CSV, index=False)\n",
    "print(\"Saved:\")\n",
    "print(\" -\", FULL_OUT_CSV)\n",
    "print(\" -\", FULL_OUT_PKL)\n",
    "print(\" -\", HYP_OUT_CSV)"
   ]
  },
  {
   "cell_type": "code",
   "execution_count": 23,
   "id": "65960a9a",
   "metadata": {
    "execution": {
     "iopub.execute_input": "2025-09-17T23:23:59.457434Z",
     "iopub.status.busy": "2025-09-17T23:23:59.456859Z",
     "iopub.status.idle": "2025-09-17T23:23:59.466585Z",
     "shell.execute_reply": "2025-09-17T23:23:59.465815Z"
    },
    "papermill": {
     "duration": 0.018075,
     "end_time": "2025-09-17T23:23:59.467963",
     "exception": false,
     "start_time": "2025-09-17T23:23:59.449888",
     "status": "completed"
    },
    "tags": []
   },
   "outputs": [
    {
     "data": {
      "text/html": [
       "<div>\n",
       "<style scoped>\n",
       "    .dataframe tbody tr th:only-of-type {\n",
       "        vertical-align: middle;\n",
       "    }\n",
       "\n",
       "    .dataframe tbody tr th {\n",
       "        vertical-align: top;\n",
       "    }\n",
       "\n",
       "    .dataframe thead th {\n",
       "        text-align: right;\n",
       "    }\n",
       "</style>\n",
       "<table border=\"1\" class=\"dataframe\">\n",
       "  <thead>\n",
       "    <tr style=\"text-align: right;\">\n",
       "      <th></th>\n",
       "      <th>Description</th>\n",
       "    </tr>\n",
       "  </thead>\n",
       "  <tbody>\n",
       "    <tr>\n",
       "      <th>ID</th>\n",
       "      <td>User Id</td>\n",
       "    </tr>\n",
       "    <tr>\n",
       "      <th>Year_Birth</th>\n",
       "      <td>Year of birth (full data)</td>\n",
       "    </tr>\n",
       "    <tr>\n",
       "      <th>Age</th>\n",
       "      <td>2025 - Year_Birth</td>\n",
       "    </tr>\n",
       "    <tr>\n",
       "      <th>Education</th>\n",
       "      <td>Education</td>\n",
       "    </tr>\n",
       "    <tr>\n",
       "      <th>Marital_Status</th>\n",
       "      <td>Marital_Status</td>\n",
       "    </tr>\n",
       "    <tr>\n",
       "      <th>Kidhome</th>\n",
       "      <td>Number of Kids</td>\n",
       "    </tr>\n",
       "    <tr>\n",
       "      <th>Teenhome</th>\n",
       "      <td>Number of Teenagers</td>\n",
       "    </tr>\n",
       "    <tr>\n",
       "      <th>Income</th>\n",
       "      <td>Annual Income (Upper fence by IQR method, FIll...</td>\n",
       "    </tr>\n",
       "    <tr>\n",
       "      <th>Recency</th>\n",
       "      <td>Dates passed after the last purchase</td>\n",
       "    </tr>\n",
       "    <tr>\n",
       "      <th>MntWines ~ MntGoldProds</th>\n",
       "      <td>Categorical Spend</td>\n",
       "    </tr>\n",
       "    <tr>\n",
       "      <th>TotalSpend</th>\n",
       "      <td>TotalSpend</td>\n",
       "    </tr>\n",
       "    <tr>\n",
       "      <th>AcceptedCmp1~5</th>\n",
       "      <td>Previous Campaigns (accepted:1, not:0)</td>\n",
       "    </tr>\n",
       "    <tr>\n",
       "      <th>Response</th>\n",
       "      <td>Response to the last campain (1/0)</td>\n",
       "    </tr>\n",
       "    <tr>\n",
       "      <th>AcceptedCnt</th>\n",
       "      <td>Total accepted campaigns</td>\n",
       "    </tr>\n",
       "    <tr>\n",
       "      <th>NumWebPurchases</th>\n",
       "      <td>Number of Web Purchases</td>\n",
       "    </tr>\n",
       "    <tr>\n",
       "      <th>NumCatalogPurchases</th>\n",
       "      <td>Number of Catalog Purchases</td>\n",
       "    </tr>\n",
       "    <tr>\n",
       "      <th>NumStorePurchases</th>\n",
       "      <td>Number of Store Purchases</td>\n",
       "    </tr>\n",
       "    <tr>\n",
       "      <th>NumWebVisitsMonth</th>\n",
       "      <td>Number of Monthly Web Visits</td>\n",
       "    </tr>\n",
       "    <tr>\n",
       "      <th>NumDealsPurchases</th>\n",
       "      <td>Number of Deals Purchases</td>\n",
       "    </tr>\n",
       "  </tbody>\n",
       "</table>\n",
       "</div>"
      ],
      "text/plain": [
       "                                                               Description\n",
       "ID                                                                 User Id\n",
       "Year_Birth                                       Year of birth (full data)\n",
       "Age                                                      2025 - Year_Birth\n",
       "Education                                                        Education\n",
       "Marital_Status                                              Marital_Status\n",
       "Kidhome                                                     Number of Kids\n",
       "Teenhome                                               Number of Teenagers\n",
       "Income                   Annual Income (Upper fence by IQR method, FIll...\n",
       "Recency                               Dates passed after the last purchase\n",
       "MntWines ~ MntGoldProds                                  Categorical Spend\n",
       "TotalSpend                                                      TotalSpend\n",
       "AcceptedCmp1~5                      Previous Campaigns (accepted:1, not:0)\n",
       "Response                                Response to the last campain (1/0)\n",
       "AcceptedCnt                                       Total accepted campaigns\n",
       "NumWebPurchases                                    Number of Web Purchases\n",
       "NumCatalogPurchases                            Number of Catalog Purchases\n",
       "NumStorePurchases                                Number of Store Purchases\n",
       "NumWebVisitsMonth                             Number of Monthly Web Visits\n",
       "NumDealsPurchases                                Number of Deals Purchases"
      ]
     },
     "execution_count": 23,
     "metadata": {},
     "output_type": "execute_result"
    }
   ],
   "source": [
    "variable_doc = {\n",
    "    \"ID\": \"User Id\",\n",
    "    \"Year_Birth\": \"Year of birth (full data)\",\n",
    "    \"Age\": \"2025 - Year_Birth\",\n",
    "    \"Education\": \"Education\",\n",
    "    \"Marital_Status\": \"Marital_Status\",\n",
    "    \"Kidhome\": \"Number of Kids\",\n",
    "    \"Teenhome\": \"Number of Teenagers\",\n",
    "    \"Income\": \"Annual Income (Upper fence by IQR method, FIlled None with Median\",\n",
    "    \"Recency\": \"Dates passed after the last purchase\",\n",
    "    \"MntWines ~ MntGoldProds\": \"Categorical Spend\",\n",
    "    \"TotalSpend\": \"TotalSpend\",\n",
    "    \"AcceptedCmp1~5\": \"Previous Campaigns (accepted:1, not:0)\",\n",
    "    \"Response\": \"Response to the last campain (1/0)\",\n",
    "    \"AcceptedCnt\": \"Total accepted campaigns\",\n",
    "    \"NumWebPurchases\": \"Number of Web Purchases\",\n",
    "    \"NumCatalogPurchases\": \"Number of Catalog Purchases\",\n",
    "    \"NumStorePurchases\": \"Number of Store Purchases\",\n",
    "    \"NumWebVisitsMonth\": \"Number of Monthly Web Visits\",\n",
    "    \"NumDealsPurchases\": \"Number of Deals Purchases\"\n",
    "}\n",
    "\n",
    "pd.Series(variable_doc).to_frame(\"Description\")"
   ]
  },
  {
   "cell_type": "code",
   "execution_count": null,
   "id": "ba1f8d94",
   "metadata": {
    "papermill": {
     "duration": 0.005987,
     "end_time": "2025-09-17T23:23:59.480392",
     "exception": false,
     "start_time": "2025-09-17T23:23:59.474405",
     "status": "completed"
    },
    "tags": []
   },
   "outputs": [],
   "source": []
  }
 ],
 "metadata": {
  "kaggle": {
   "accelerator": "none",
   "dataSources": [
    {
     "datasetId": 178248,
     "sourceId": 1139908,
     "sourceType": "datasetVersion"
    }
   ],
   "dockerImageVersionId": 31089,
   "isGpuEnabled": false,
   "isInternetEnabled": true,
   "language": "python",
   "sourceType": "notebook"
  },
  "kernelspec": {
   "display_name": "Python 3",
   "language": "python",
   "name": "python3"
  },
  "language_info": {
   "codemirror_mode": {
    "name": "ipython",
    "version": 3
   },
   "file_extension": ".py",
   "mimetype": "text/x-python",
   "name": "python",
   "nbconvert_exporter": "python",
   "pygments_lexer": "ipython3",
   "version": "3.11.13"
  },
  "papermill": {
   "default_parameters": {},
   "duration": 8.03634,
   "end_time": "2025-09-17T23:24:00.005577",
   "environment_variables": {},
   "exception": null,
   "input_path": "__notebook__.ipynb",
   "output_path": "__notebook__.ipynb",
   "parameters": {},
   "start_time": "2025-09-17T23:23:51.969237",
   "version": "2.6.0"
  }
 },
 "nbformat": 4,
 "nbformat_minor": 5
}
